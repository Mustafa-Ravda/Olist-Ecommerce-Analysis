{
 "cells": [
  {
   "cell_type": "markdown",
   "id": "4bf841c7",
   "metadata": {},
   "source": [
    "## Importing libraries"
   ]
  },
  {
   "cell_type": "code",
   "execution_count": null,
   "id": "573a693b",
   "metadata": {},
   "outputs": [],
   "source": [
    "import numpy as np\n",
    "import pandas as pd\n",
    "import pyodbc\n",
    "import unicodedata\n",
    "import urllib\n",
    "from sqlalchemy import create_engine\n",
    "from sqlalchemy.types import VARCHAR, NVARCHAR, Integer, Float, DateTime, Boolean"
   ]
  },
  {
   "cell_type": "markdown",
   "id": "0a7a5f5a",
   "metadata": {},
   "source": [
    "### Establishing connection with SQL database"
   ]
  },
  {
   "cell_type": "code",
   "execution_count": 2,
   "id": "406fa0b0",
   "metadata": {},
   "outputs": [],
   "source": [
    "conn_str = (\n",
    "    r\"DRIVER={ODBC driver 17 for sql server};\"\n",
    "    r\"SERVER=DESKTOP-47IJHFR\\AFTERERROR;\"\n",
    "    r\"DATABASE=Olist;\"\n",
    "    r\"Trusted_connection=yes;\"\n",
    "\n",
    ")"
   ]
  },
  {
   "cell_type": "code",
   "execution_count": 3,
   "id": "fbd5b3b1",
   "metadata": {},
   "outputs": [],
   "source": [
    "cnxn = pyodbc.connect(conn_str)"
   ]
  },
  {
   "cell_type": "code",
   "execution_count": 4,
   "id": "35925807",
   "metadata": {},
   "outputs": [],
   "source": [
    "tables = [\"olist_geolocation_dataset\",\n",
    "          \"olist_customers_dataset\",\n",
    "          \"olist_sellers_dataset\",\n",
    "          \"olist_products_dataset\",\n",
    "          \"olist_orders_dataset\",\n",
    "          \"olist_order_items_dataset\",\n",
    "          \"olist_order_reviews_dataset\",\n",
    "          \"olist_order_payments_dataset\",\n",
    "          \"product_category_name_translation\"\n",
    "]"
   ]
  },
  {
   "cell_type": "code",
   "execution_count": 5,
   "id": "1fdc8485",
   "metadata": {},
   "outputs": [
    {
     "name": "stderr",
     "output_type": "stream",
     "text": [
      "C:\\Users\\admin\\AppData\\Local\\Temp\\ipykernel_14704\\4138702520.py:4: UserWarning: pandas only supports SQLAlchemy connectable (engine/connection) or database string URI or sqlite3 DBAPI2 connection. Other DBAPI2 objects are not tested. Please consider using SQLAlchemy.\n",
      "  dfs[tb] = pd.read_sql(f\"SELECT * FROM staging.{tb}\", cnxn)\n"
     ]
    }
   ],
   "source": [
    "dfs = {}\n",
    "\n",
    "for tb in tables:\n",
    "    dfs[tb] = pd.read_sql(f\"SELECT * FROM staging.{tb}\", cnxn)"
   ]
  },
  {
   "cell_type": "code",
   "execution_count": 6,
   "id": "ec1be023",
   "metadata": {},
   "outputs": [
    {
     "data": {
      "text/plain": [
       "dict_keys(['olist_geolocation_dataset', 'olist_customers_dataset', 'olist_sellers_dataset', 'olist_products_dataset', 'olist_orders_dataset', 'olist_order_items_dataset', 'olist_order_reviews_dataset', 'olist_order_payments_dataset', 'product_category_name_translation'])"
      ]
     },
     "execution_count": 6,
     "metadata": {},
     "output_type": "execute_result"
    }
   ],
   "source": [
    "dfs.keys()"
   ]
  },
  {
   "cell_type": "code",
   "execution_count": 7,
   "id": "f1116ced",
   "metadata": {},
   "outputs": [],
   "source": [
    "geolocation = dfs[\"olist_geolocation_dataset\"]\n",
    "customers = dfs[\"olist_customers_dataset\"]\n",
    "sellers = dfs[\"olist_sellers_dataset\"]\n",
    "products = dfs[\"olist_products_dataset\"]\n",
    "orders = dfs[\"olist_orders_dataset\"]\n",
    "order_items = dfs[\"olist_order_items_dataset\"]\n",
    "order_payments = dfs[\"olist_order_payments_dataset\"]\n",
    "order_reviews = dfs[\"olist_order_reviews_dataset\"]\n",
    "cat_translation = dfs[\"product_category_name_translation\"]"
   ]
  },
  {
   "cell_type": "code",
   "execution_count": 8,
   "id": "79e12818",
   "metadata": {},
   "outputs": [],
   "source": [
    "del dfs"
   ]
  },
  {
   "cell_type": "code",
   "execution_count": 9,
   "id": "9943f858",
   "metadata": {},
   "outputs": [
    {
     "name": "stdout",
     "output_type": "stream",
     "text": [
      "geolocation (1000163, 5)\n",
      "geolocation_zip_code_prefix    0\n",
      "geolocation_lat                0\n",
      "geolocation_lng                0\n",
      "geolocation_city               0\n",
      "geolocation_state              0\n",
      "dtype: int64 \n",
      "\n",
      "customers (99441, 5)\n",
      "customer_id                 0\n",
      "customer_unique_id          0\n",
      "customer_zip_code_prefix    0\n",
      "customer_city               0\n",
      "customer_state              0\n",
      "dtype: int64 \n",
      "\n",
      "sellers (3095, 4)\n",
      "seller_id                 0\n",
      "seller_zip_code_prefix    0\n",
      "seller_city               0\n",
      "seller_state              0\n",
      "dtype: int64 \n",
      "\n",
      "products (32951, 9)\n",
      "product_id                      0\n",
      "product_category_name         610\n",
      "product_name_lenght           610\n",
      "product_description_lenght    610\n",
      "product_photos_qty            610\n",
      "product_weight_g                2\n",
      "product_length_cm               2\n",
      "product_height_cm               2\n",
      "product_width_cm                2\n",
      "dtype: int64 \n",
      "\n",
      "orders (99441, 8)\n",
      "order_id                            0\n",
      "customer_id                         0\n",
      "order_status                        0\n",
      "order_purchase_timestamp            0\n",
      "order_approved_at                 160\n",
      "order_delivered_carrier_date     1783\n",
      "order_delivered_customer_date    2965\n",
      "order_estimated_delivery_date       0\n",
      "dtype: int64 \n",
      "\n",
      "order_items (112650, 7)\n",
      "order_id               0\n",
      "order_item_id          0\n",
      "product_id             0\n",
      "seller_id              0\n",
      "shipping_limit_date    0\n",
      "price                  0\n",
      "freight_value          0\n",
      "dtype: int64 \n",
      "\n",
      "order_payments (103886, 5)\n",
      "order_id                0\n",
      "payment_sequential      0\n",
      "payment_type            0\n",
      "payment_installments    0\n",
      "payment_value           0\n",
      "dtype: int64 \n",
      "\n",
      "order_reviews (99224, 7)\n",
      "review_id                      0\n",
      "order_id                       0\n",
      "review_score                   0\n",
      "review_comment_title       87658\n",
      "review_comment_message     58256\n",
      "review_creation_date           0\n",
      "review_answer_timestamp        0\n",
      "dtype: int64 \n",
      "\n",
      "cat_translation (72, 2)\n",
      "column1    0\n",
      "column2    0\n",
      "dtype: int64 \n",
      "\n"
     ]
    }
   ],
   "source": [
    "for name, df in [(\"geolocation\", geolocation), \n",
    "                 (\"customers\", customers), \n",
    "                 (\"sellers\", sellers), \n",
    "                 (\"products\", products),\n",
    "                 (\"orders\", orders),\n",
    "                 (\"order_items\", order_items),\n",
    "                 (\"order_payments\", order_payments),\n",
    "                 (\"order_reviews\", order_reviews),\n",
    "                 (\"cat_translation\", cat_translation)]:\n",
    "    \n",
    "    print(name, df.shape)\n",
    "    print(df.isnull().sum(), \"\\n\")\n"
   ]
  },
  {
   "cell_type": "markdown",
   "id": "ff78ef5a",
   "metadata": {},
   "source": [
    "**We have null values in products, orders and order_reviews table**"
   ]
  },
  {
   "cell_type": "code",
   "execution_count": 10,
   "id": "585287e7",
   "metadata": {},
   "outputs": [
    {
     "data": {
      "text/html": [
       "<div>\n",
       "<style scoped>\n",
       "    .dataframe tbody tr th:only-of-type {\n",
       "        vertical-align: middle;\n",
       "    }\n",
       "\n",
       "    .dataframe tbody tr th {\n",
       "        vertical-align: top;\n",
       "    }\n",
       "\n",
       "    .dataframe thead th {\n",
       "        text-align: right;\n",
       "    }\n",
       "</style>\n",
       "<table border=\"1\" class=\"dataframe\">\n",
       "  <thead>\n",
       "    <tr style=\"text-align: right;\">\n",
       "      <th></th>\n",
       "      <th>product_category_name</th>\n",
       "      <th>product_category_name_english</th>\n",
       "    </tr>\n",
       "  </thead>\n",
       "  <tbody>\n",
       "    <tr>\n",
       "      <th>0</th>\n",
       "      <td>beleza_saude</td>\n",
       "      <td>health_beauty</td>\n",
       "    </tr>\n",
       "    <tr>\n",
       "      <th>1</th>\n",
       "      <td>informatica_acessorios</td>\n",
       "      <td>computers_accessories</td>\n",
       "    </tr>\n",
       "    <tr>\n",
       "      <th>2</th>\n",
       "      <td>automotivo</td>\n",
       "      <td>auto</td>\n",
       "    </tr>\n",
       "    <tr>\n",
       "      <th>3</th>\n",
       "      <td>cama_mesa_banho</td>\n",
       "      <td>bed_bath_table</td>\n",
       "    </tr>\n",
       "    <tr>\n",
       "      <th>4</th>\n",
       "      <td>moveis_decoracao</td>\n",
       "      <td>furniture_decor</td>\n",
       "    </tr>\n",
       "  </tbody>\n",
       "</table>\n",
       "</div>"
      ],
      "text/plain": [
       "    product_category_name product_category_name_english\n",
       "0            beleza_saude                 health_beauty\n",
       "1  informatica_acessorios         computers_accessories\n",
       "2              automotivo                          auto\n",
       "3         cama_mesa_banho                bed_bath_table\n",
       "4        moveis_decoracao               furniture_decor"
      ]
     },
     "execution_count": 10,
     "metadata": {},
     "output_type": "execute_result"
    }
   ],
   "source": [
    "# Table cat_translation needs its headers fixed\n",
    "\n",
    "new_header = cat_translation.iloc[0]            # Assigning first row as the header names\n",
    "cat_translation = cat_translation[1:]           # Eliminating first row from the table\n",
    "cat_translation.columns = new_header.tolist()   # ASsigning header to the table\n",
    "cat_translation.reset_index(drop=True, inplace=True)    # Dropping the index column and resetting the index\n",
    "cat_translation.head()"
   ]
  },
  {
   "cell_type": "markdown",
   "id": "0fc67d31",
   "metadata": {},
   "source": [
    "### Analysing Geolocation table"
   ]
  },
  {
   "cell_type": "code",
   "execution_count": 11,
   "id": "de0ca2d4",
   "metadata": {},
   "outputs": [
    {
     "name": "stdout",
     "output_type": "stream",
     "text": [
      "geolocation_zip_code_prefix : 19015\n",
      "geolocation_lat : 717372\n",
      "geolocation_lng : 717615\n",
      "geolocation_city : 8011\n",
      "geolocation_state : 27\n"
     ]
    }
   ],
   "source": [
    "# Primary analysis\n",
    "for column in geolocation:\n",
    "    print(f\"{column} : {len(geolocation[column].unique())}\")"
   ]
  },
  {
   "cell_type": "code",
   "execution_count": 12,
   "id": "510279aa",
   "metadata": {},
   "outputs": [
    {
     "data": {
      "text/html": [
       "<div>\n",
       "<style scoped>\n",
       "    .dataframe tbody tr th:only-of-type {\n",
       "        vertical-align: middle;\n",
       "    }\n",
       "\n",
       "    .dataframe tbody tr th {\n",
       "        vertical-align: top;\n",
       "    }\n",
       "\n",
       "    .dataframe thead th {\n",
       "        text-align: right;\n",
       "    }\n",
       "</style>\n",
       "<table border=\"1\" class=\"dataframe\">\n",
       "  <thead>\n",
       "    <tr style=\"text-align: right;\">\n",
       "      <th></th>\n",
       "      <th>geolocation_zip_code_prefix</th>\n",
       "      <th>geolocation_lat</th>\n",
       "      <th>geolocation_lng</th>\n",
       "      <th>geolocation_city</th>\n",
       "      <th>geolocation_state</th>\n",
       "    </tr>\n",
       "  </thead>\n",
       "  <tbody>\n",
       "    <tr>\n",
       "      <th>0</th>\n",
       "      <td>01037</td>\n",
       "      <td>-23.54562128115268</td>\n",
       "      <td>-46.63929204800168</td>\n",
       "      <td>sao paulo</td>\n",
       "      <td>SP</td>\n",
       "    </tr>\n",
       "    <tr>\n",
       "      <th>1</th>\n",
       "      <td>01046</td>\n",
       "      <td>-23.546081127035535</td>\n",
       "      <td>-46.64482029837157</td>\n",
       "      <td>sao paulo</td>\n",
       "      <td>SP</td>\n",
       "    </tr>\n",
       "    <tr>\n",
       "      <th>2</th>\n",
       "      <td>01046</td>\n",
       "      <td>-23.54612896641469</td>\n",
       "      <td>-46.64295148361138</td>\n",
       "      <td>sao paulo</td>\n",
       "      <td>SP</td>\n",
       "    </tr>\n",
       "    <tr>\n",
       "      <th>3</th>\n",
       "      <td>01041</td>\n",
       "      <td>-23.5443921648681</td>\n",
       "      <td>-46.63949930627844</td>\n",
       "      <td>sao paulo</td>\n",
       "      <td>SP</td>\n",
       "    </tr>\n",
       "    <tr>\n",
       "      <th>4</th>\n",
       "      <td>01035</td>\n",
       "      <td>-23.541577961711493</td>\n",
       "      <td>-46.64160722329613</td>\n",
       "      <td>sao paulo</td>\n",
       "      <td>SP</td>\n",
       "    </tr>\n",
       "  </tbody>\n",
       "</table>\n",
       "</div>"
      ],
      "text/plain": [
       "  geolocation_zip_code_prefix      geolocation_lat     geolocation_lng  \\\n",
       "0                       01037   -23.54562128115268  -46.63929204800168   \n",
       "1                       01046  -23.546081127035535  -46.64482029837157   \n",
       "2                       01046   -23.54612896641469  -46.64295148361138   \n",
       "3                       01041    -23.5443921648681  -46.63949930627844   \n",
       "4                       01035  -23.541577961711493  -46.64160722329613   \n",
       "\n",
       "  geolocation_city geolocation_state  \n",
       "0        sao paulo                SP  \n",
       "1        sao paulo                SP  \n",
       "2        sao paulo                SP  \n",
       "3        sao paulo                SP  \n",
       "4        sao paulo                SP  "
      ]
     },
     "execution_count": 12,
     "metadata": {},
     "output_type": "execute_result"
    }
   ],
   "source": [
    "geolocation.head() # General view"
   ]
  },
  {
   "cell_type": "code",
   "execution_count": 13,
   "id": "0c3b3dca",
   "metadata": {},
   "outputs": [
    {
     "data": {
      "text/plain": [
       "array(['sao paulo', 'são paulo', 'sao bernardo do campo', ..., 'ciríaco',\n",
       "       'estação', 'vila lângaro'], dtype=object)"
      ]
     },
     "execution_count": 13,
     "metadata": {},
     "output_type": "execute_result"
    }
   ],
   "source": [
    "geolocation[\"geolocation_city\"].unique()    # Unique values of city"
   ]
  },
  {
   "cell_type": "code",
   "execution_count": 14,
   "id": "cb0e70df",
   "metadata": {},
   "outputs": [],
   "source": [
    "# Defining a function to normalize city names\n",
    "def normalize_city(name):\n",
    "    if pd.isna(name):\n",
    "        return name\n",
    "\n",
    "    nfkd = unicodedata.normalize('NFKD', name)      # Decompose unicode characters\n",
    "    no_accents = ''.join(c for c in nfkd if not unicodedata.combining(c))\n",
    "    return no_accents.strip().lower().title()\n",
    "    "
   ]
  },
  {
   "cell_type": "code",
   "execution_count": 15,
   "id": "114fec73",
   "metadata": {},
   "outputs": [],
   "source": [
    "# Creating a normalized column of city names\n",
    "geolocation[\"city_clean\"] = geolocation[\"geolocation_city\"].apply(normalize_city)"
   ]
  },
  {
   "cell_type": "code",
   "execution_count": 16,
   "id": "fb3aa6d8",
   "metadata": {},
   "outputs": [
    {
     "data": {
      "text/html": [
       "<div>\n",
       "<style scoped>\n",
       "    .dataframe tbody tr th:only-of-type {\n",
       "        vertical-align: middle;\n",
       "    }\n",
       "\n",
       "    .dataframe tbody tr th {\n",
       "        vertical-align: top;\n",
       "    }\n",
       "\n",
       "    .dataframe thead th {\n",
       "        text-align: right;\n",
       "    }\n",
       "</style>\n",
       "<table border=\"1\" class=\"dataframe\">\n",
       "  <thead>\n",
       "    <tr style=\"text-align: right;\">\n",
       "      <th></th>\n",
       "      <th>geolocation_zip_code_prefix</th>\n",
       "      <th>geolocation_lat</th>\n",
       "      <th>geolocation_lng</th>\n",
       "      <th>geolocation_city</th>\n",
       "      <th>geolocation_state</th>\n",
       "      <th>city_clean</th>\n",
       "    </tr>\n",
       "  </thead>\n",
       "  <tbody>\n",
       "    <tr>\n",
       "      <th>0</th>\n",
       "      <td>01037</td>\n",
       "      <td>-23.54562128115268</td>\n",
       "      <td>-46.63929204800168</td>\n",
       "      <td>sao paulo</td>\n",
       "      <td>SP</td>\n",
       "      <td>Sao Paulo</td>\n",
       "    </tr>\n",
       "    <tr>\n",
       "      <th>1</th>\n",
       "      <td>01046</td>\n",
       "      <td>-23.546081127035535</td>\n",
       "      <td>-46.64482029837157</td>\n",
       "      <td>sao paulo</td>\n",
       "      <td>SP</td>\n",
       "      <td>Sao Paulo</td>\n",
       "    </tr>\n",
       "    <tr>\n",
       "      <th>2</th>\n",
       "      <td>01046</td>\n",
       "      <td>-23.54612896641469</td>\n",
       "      <td>-46.64295148361138</td>\n",
       "      <td>sao paulo</td>\n",
       "      <td>SP</td>\n",
       "      <td>Sao Paulo</td>\n",
       "    </tr>\n",
       "    <tr>\n",
       "      <th>3</th>\n",
       "      <td>01041</td>\n",
       "      <td>-23.5443921648681</td>\n",
       "      <td>-46.63949930627844</td>\n",
       "      <td>sao paulo</td>\n",
       "      <td>SP</td>\n",
       "      <td>Sao Paulo</td>\n",
       "    </tr>\n",
       "    <tr>\n",
       "      <th>4</th>\n",
       "      <td>01035</td>\n",
       "      <td>-23.541577961711493</td>\n",
       "      <td>-46.64160722329613</td>\n",
       "      <td>sao paulo</td>\n",
       "      <td>SP</td>\n",
       "      <td>Sao Paulo</td>\n",
       "    </tr>\n",
       "  </tbody>\n",
       "</table>\n",
       "</div>"
      ],
      "text/plain": [
       "  geolocation_zip_code_prefix      geolocation_lat     geolocation_lng  \\\n",
       "0                       01037   -23.54562128115268  -46.63929204800168   \n",
       "1                       01046  -23.546081127035535  -46.64482029837157   \n",
       "2                       01046   -23.54612896641469  -46.64295148361138   \n",
       "3                       01041    -23.5443921648681  -46.63949930627844   \n",
       "4                       01035  -23.541577961711493  -46.64160722329613   \n",
       "\n",
       "  geolocation_city geolocation_state city_clean  \n",
       "0        sao paulo                SP  Sao Paulo  \n",
       "1        sao paulo                SP  Sao Paulo  \n",
       "2        sao paulo                SP  Sao Paulo  \n",
       "3        sao paulo                SP  Sao Paulo  \n",
       "4        sao paulo                SP  Sao Paulo  "
      ]
     },
     "execution_count": 16,
     "metadata": {},
     "output_type": "execute_result"
    }
   ],
   "source": [
    "geolocation.head()  # General view"
   ]
  },
  {
   "cell_type": "code",
   "execution_count": 17,
   "id": "5821b815",
   "metadata": {},
   "outputs": [
    {
     "name": "stdout",
     "output_type": "stream",
     "text": [
      "<class 'pandas.core.frame.DataFrame'>\n",
      "RangeIndex: 1000163 entries, 0 to 1000162\n",
      "Data columns (total 6 columns):\n",
      " #   Column                       Non-Null Count    Dtype \n",
      "---  ------                       --------------    ----- \n",
      " 0   geolocation_zip_code_prefix  1000163 non-null  object\n",
      " 1   geolocation_lat              1000163 non-null  object\n",
      " 2   geolocation_lng              1000163 non-null  object\n",
      " 3   geolocation_city             1000163 non-null  object\n",
      " 4   geolocation_state            1000163 non-null  object\n",
      " 5   city_clean                   1000163 non-null  object\n",
      "dtypes: object(6)\n",
      "memory usage: 45.8+ MB\n"
     ]
    }
   ],
   "source": [
    "geolocation.info()  # General observation"
   ]
  },
  {
   "cell_type": "code",
   "execution_count": 18,
   "id": "ae8e0e72",
   "metadata": {},
   "outputs": [],
   "source": [
    "geolocation[\"geolocation_city\"] = geolocation[\"city_clean\"]     # Normalizing the geolocation_city column"
   ]
  },
  {
   "cell_type": "code",
   "execution_count": 19,
   "id": "0474004f",
   "metadata": {},
   "outputs": [],
   "source": [
    "del geolocation[\"city_clean\"]   # Deleting city_clean column as it is redundant"
   ]
  },
  {
   "cell_type": "code",
   "execution_count": 20,
   "id": "c2caca2e",
   "metadata": {},
   "outputs": [
    {
     "data": {
      "text/plain": [
       "5967"
      ]
     },
     "execution_count": 20,
     "metadata": {},
     "output_type": "execute_result"
    }
   ],
   "source": [
    "geolocation[\"geolocation_city\"].nunique()   # Checking unique count of geolocation_city"
   ]
  },
  {
   "cell_type": "code",
   "execution_count": 21,
   "id": "67dcecab",
   "metadata": {},
   "outputs": [],
   "source": [
    "# Changing the data types\n",
    "geolocation[\"geolocation_zip_code_prefix\"] = geolocation[\"geolocation_zip_code_prefix\"].astype(int)\n",
    "geolocation[\"geolocation_lat\"] = pd.to_numeric(geolocation[\"geolocation_lat\"], errors=\"coerce\")\n",
    "geolocation[\"geolocation_lng\"] = pd.to_numeric(geolocation[\"geolocation_lng\"], errors=\"coerce\")"
   ]
  },
  {
   "cell_type": "code",
   "execution_count": 22,
   "id": "62a74dfb",
   "metadata": {},
   "outputs": [
    {
     "data": {
      "text/html": [
       "<div>\n",
       "<style scoped>\n",
       "    .dataframe tbody tr th:only-of-type {\n",
       "        vertical-align: middle;\n",
       "    }\n",
       "\n",
       "    .dataframe tbody tr th {\n",
       "        vertical-align: top;\n",
       "    }\n",
       "\n",
       "    .dataframe thead th {\n",
       "        text-align: right;\n",
       "    }\n",
       "</style>\n",
       "<table border=\"1\" class=\"dataframe\">\n",
       "  <thead>\n",
       "    <tr style=\"text-align: right;\">\n",
       "      <th></th>\n",
       "      <th>geolocation_zip_code_prefix</th>\n",
       "      <th>geolocation_city</th>\n",
       "      <th>geolocation_state</th>\n",
       "      <th>count</th>\n",
       "    </tr>\n",
       "  </thead>\n",
       "  <tbody>\n",
       "    <tr>\n",
       "      <th>0</th>\n",
       "      <td>1001</td>\n",
       "      <td>Sao Paulo</td>\n",
       "      <td>SP</td>\n",
       "      <td>26</td>\n",
       "    </tr>\n",
       "    <tr>\n",
       "      <th>1</th>\n",
       "      <td>1002</td>\n",
       "      <td>Sao Paulo</td>\n",
       "      <td>SP</td>\n",
       "      <td>13</td>\n",
       "    </tr>\n",
       "    <tr>\n",
       "      <th>2</th>\n",
       "      <td>1003</td>\n",
       "      <td>Sao Paulo</td>\n",
       "      <td>SP</td>\n",
       "      <td>17</td>\n",
       "    </tr>\n",
       "    <tr>\n",
       "      <th>3</th>\n",
       "      <td>1004</td>\n",
       "      <td>Sao Paulo</td>\n",
       "      <td>SP</td>\n",
       "      <td>22</td>\n",
       "    </tr>\n",
       "    <tr>\n",
       "      <th>4</th>\n",
       "      <td>1005</td>\n",
       "      <td>Sao Paulo</td>\n",
       "      <td>SP</td>\n",
       "      <td>25</td>\n",
       "    </tr>\n",
       "  </tbody>\n",
       "</table>\n",
       "</div>"
      ],
      "text/plain": [
       "   geolocation_zip_code_prefix geolocation_city geolocation_state  count\n",
       "0                         1001        Sao Paulo                SP     26\n",
       "1                         1002        Sao Paulo                SP     13\n",
       "2                         1003        Sao Paulo                SP     17\n",
       "3                         1004        Sao Paulo                SP     22\n",
       "4                         1005        Sao Paulo                SP     25"
      ]
     },
     "execution_count": 22,
     "metadata": {},
     "output_type": "execute_result"
    }
   ],
   "source": [
    "# Creating unique zip_code, city and state records\n",
    "geo_grp = geolocation.groupby(\n",
    "    [\"geolocation_zip_code_prefix\", \"geolocation_city\", \"geolocation_state\"]\n",
    ").size().reset_index(name=\"count\")\n",
    "\n",
    "geo_grp.head()"
   ]
  },
  {
   "cell_type": "code",
   "execution_count": 23,
   "id": "9dd0346d",
   "metadata": {},
   "outputs": [],
   "source": [
    "del geo_grp[\"count\"]    # Deleting the count column"
   ]
  },
  {
   "cell_type": "code",
   "execution_count": 24,
   "id": "349d3fcd",
   "metadata": {},
   "outputs": [
    {
     "data": {
      "text/plain": [
       "(19616, 3)"
      ]
     },
     "execution_count": 24,
     "metadata": {},
     "output_type": "execute_result"
    }
   ],
   "source": [
    "geo_grp.shape   # Shape of grouped dataframe"
   ]
  },
  {
   "cell_type": "markdown",
   "id": "2cb36120",
   "metadata": {},
   "source": [
    "### Analysing Customers table"
   ]
  },
  {
   "cell_type": "code",
   "execution_count": 25,
   "id": "7294f872",
   "metadata": {},
   "outputs": [
    {
     "name": "stdout",
     "output_type": "stream",
     "text": [
      "customer_id : 99441\n",
      "customer_unique_id : 96096\n",
      "customer_zip_code_prefix : 14994\n",
      "customer_city : 4119\n",
      "customer_state : 27\n"
     ]
    }
   ],
   "source": [
    "# Primary analysis\n",
    "for column in customers:\n",
    "    print(f\"{column} : {len(customers[column].unique())}\")"
   ]
  },
  {
   "cell_type": "code",
   "execution_count": 26,
   "id": "d3fe6b35",
   "metadata": {},
   "outputs": [],
   "source": [
    "# Unique values in custoemr_id column is the same as the lenght of the Custoemrs table. Hence, unique value for each row"
   ]
  },
  {
   "cell_type": "code",
   "execution_count": 27,
   "id": "1d2c0b68",
   "metadata": {},
   "outputs": [],
   "source": [
    "# Normalize customer_id column\n",
    "customers[\"customer_id\"] = (\n",
    "    customers[\"customer_id\"]\n",
    "    .str.lower()\n",
    "    .str.strip()\n",
    "    .str.replace(r\"\\s+\", \"\", regex = True)\n",
    ")\n",
    "\n",
    "# Normalize customer_unique_id column\n",
    "customers[\"customer_unique_id\"] =( \n",
    "    customers[\"customer_unique_id\"]\n",
    "    .str.lower()\n",
    "    .str.strip()\n",
    "    .str.replace(r\"\\s+\", \"\", regex=True)\n",
    ")\n",
    "\n",
    "# Convert to integer, catching any bad values\n",
    "customers[\"customer_zip_code_prefix\"] = (\n",
    "    pd.to_numeric(customers[\"customer_zip_code_prefix\"],\n",
    "                  errors = \"coerce\")\n",
    ")\n",
    "\n",
    "# Normalize customer_city column\n",
    "customers[\"customer_city\"] = (\n",
    "    customers[\"customer_city\"]\n",
    "    .str.lower()\n",
    "    .str.strip()\n",
    "    .str.replace(r\"\\s+\", \" \", regex=True)\n",
    "    .str.title()\n",
    ")\n",
    "\n",
    "# Normalize custoemr_state column\n",
    "customers[\"customer_state\"] = (\n",
    "    customers[\"customer_state\"]\n",
    "    .str.upper()\n",
    "    .str.strip()\n",
    ")"
   ]
  },
  {
   "cell_type": "code",
   "execution_count": 28,
   "id": "257a4711",
   "metadata": {},
   "outputs": [
    {
     "data": {
      "text/plain": [
       "0"
      ]
     },
     "execution_count": 28,
     "metadata": {},
     "output_type": "execute_result"
    }
   ],
   "source": [
    "customers[\"customer_zip_code_prefix\"].isna().sum() # Checking Null values in zip_code_prefix"
   ]
  },
  {
   "cell_type": "code",
   "execution_count": 29,
   "id": "373205ba",
   "metadata": {},
   "outputs": [],
   "source": [
    "# No null values detected. Hence, the column is clean"
   ]
  },
  {
   "cell_type": "code",
   "execution_count": 30,
   "id": "e23d50c8",
   "metadata": {},
   "outputs": [
    {
     "data": {
      "text/html": [
       "<div>\n",
       "<style scoped>\n",
       "    .dataframe tbody tr th:only-of-type {\n",
       "        vertical-align: middle;\n",
       "    }\n",
       "\n",
       "    .dataframe tbody tr th {\n",
       "        vertical-align: top;\n",
       "    }\n",
       "\n",
       "    .dataframe thead th {\n",
       "        text-align: right;\n",
       "    }\n",
       "</style>\n",
       "<table border=\"1\" class=\"dataframe\">\n",
       "  <thead>\n",
       "    <tr style=\"text-align: right;\">\n",
       "      <th></th>\n",
       "      <th>customer_id</th>\n",
       "      <th>customer_unique_id</th>\n",
       "      <th>customer_zip_code_prefix</th>\n",
       "      <th>customer_city</th>\n",
       "      <th>customer_state</th>\n",
       "    </tr>\n",
       "  </thead>\n",
       "  <tbody>\n",
       "    <tr>\n",
       "      <th>0</th>\n",
       "      <td>06b8999e2fba1a1fbc88172c00ba8bc7</td>\n",
       "      <td>861eff4711a542e4b93843c6dd7febb0</td>\n",
       "      <td>14409</td>\n",
       "      <td>Franca</td>\n",
       "      <td>SP</td>\n",
       "    </tr>\n",
       "    <tr>\n",
       "      <th>1</th>\n",
       "      <td>18955e83d337fd6b2def6b18a428ac77</td>\n",
       "      <td>290c77bc529b7ac935b93aa66c333dc3</td>\n",
       "      <td>9790</td>\n",
       "      <td>Sao Bernardo Do Campo</td>\n",
       "      <td>SP</td>\n",
       "    </tr>\n",
       "    <tr>\n",
       "      <th>2</th>\n",
       "      <td>4e7b3e00288586ebd08712fdd0374a03</td>\n",
       "      <td>060e732b5b29e8181a18229c7b0b2b5e</td>\n",
       "      <td>1151</td>\n",
       "      <td>Sao Paulo</td>\n",
       "      <td>SP</td>\n",
       "    </tr>\n",
       "    <tr>\n",
       "      <th>3</th>\n",
       "      <td>b2b6027bc5c5109e529d4dc6358b12c3</td>\n",
       "      <td>259dac757896d24d7702b9acbbff3f3c</td>\n",
       "      <td>8775</td>\n",
       "      <td>Mogi Das Cruzes</td>\n",
       "      <td>SP</td>\n",
       "    </tr>\n",
       "    <tr>\n",
       "      <th>4</th>\n",
       "      <td>4f2d8ab171c80ec8364f7c12e35b23ad</td>\n",
       "      <td>345ecd01c38d18a9036ed96c73b8d066</td>\n",
       "      <td>13056</td>\n",
       "      <td>Campinas</td>\n",
       "      <td>SP</td>\n",
       "    </tr>\n",
       "  </tbody>\n",
       "</table>\n",
       "</div>"
      ],
      "text/plain": [
       "                        customer_id                customer_unique_id  \\\n",
       "0  06b8999e2fba1a1fbc88172c00ba8bc7  861eff4711a542e4b93843c6dd7febb0   \n",
       "1  18955e83d337fd6b2def6b18a428ac77  290c77bc529b7ac935b93aa66c333dc3   \n",
       "2  4e7b3e00288586ebd08712fdd0374a03  060e732b5b29e8181a18229c7b0b2b5e   \n",
       "3  b2b6027bc5c5109e529d4dc6358b12c3  259dac757896d24d7702b9acbbff3f3c   \n",
       "4  4f2d8ab171c80ec8364f7c12e35b23ad  345ecd01c38d18a9036ed96c73b8d066   \n",
       "\n",
       "   customer_zip_code_prefix          customer_city customer_state  \n",
       "0                     14409                 Franca             SP  \n",
       "1                      9790  Sao Bernardo Do Campo             SP  \n",
       "2                      1151              Sao Paulo             SP  \n",
       "3                      8775        Mogi Das Cruzes             SP  \n",
       "4                     13056               Campinas             SP  "
      ]
     },
     "execution_count": 30,
     "metadata": {},
     "output_type": "execute_result"
    }
   ],
   "source": [
    "customers.head()    # General view"
   ]
  },
  {
   "cell_type": "code",
   "execution_count": 31,
   "id": "d1447a69",
   "metadata": {},
   "outputs": [
    {
     "name": "stdout",
     "output_type": "stream",
     "text": [
      "<class 'pandas.core.frame.DataFrame'>\n",
      "RangeIndex: 99441 entries, 0 to 99440\n",
      "Data columns (total 5 columns):\n",
      " #   Column                    Non-Null Count  Dtype \n",
      "---  ------                    --------------  ----- \n",
      " 0   customer_id               99441 non-null  object\n",
      " 1   customer_unique_id        99441 non-null  object\n",
      " 2   customer_zip_code_prefix  99441 non-null  int64 \n",
      " 3   customer_city             99441 non-null  object\n",
      " 4   customer_state            99441 non-null  object\n",
      "dtypes: int64(1), object(4)\n",
      "memory usage: 3.8+ MB\n"
     ]
    }
   ],
   "source": [
    "customers.info()    # General observation"
   ]
  },
  {
   "cell_type": "code",
   "execution_count": 32,
   "id": "7cc811a5",
   "metadata": {},
   "outputs": [],
   "source": [
    "customers[\"clean_city\"] = customers[\"customer_city\"].apply(normalize_city)"
   ]
  },
  {
   "cell_type": "code",
   "execution_count": 33,
   "id": "e3a88881",
   "metadata": {},
   "outputs": [
    {
     "data": {
      "text/plain": [
       "4119"
      ]
     },
     "execution_count": 33,
     "metadata": {},
     "output_type": "execute_result"
    }
   ],
   "source": [
    "customers[\"clean_city\"].nunique()"
   ]
  },
  {
   "cell_type": "code",
   "execution_count": 34,
   "id": "743ee207",
   "metadata": {},
   "outputs": [],
   "source": [
    "# Unique count remains the same after normalization\n",
    "# So clean_city becomes redundant and can be deleted"
   ]
  },
  {
   "cell_type": "code",
   "execution_count": 35,
   "id": "2cdb4f2e",
   "metadata": {},
   "outputs": [],
   "source": [
    "del customers[\"clean_city\"]"
   ]
  },
  {
   "cell_type": "markdown",
   "id": "a889708a",
   "metadata": {},
   "source": [
    "### Analyzing Sellers table"
   ]
  },
  {
   "cell_type": "code",
   "execution_count": 36,
   "id": "67398b11",
   "metadata": {},
   "outputs": [
    {
     "name": "stdout",
     "output_type": "stream",
     "text": [
      "seller_id : 3095\n",
      "seller_zip_code_prefix : 2246\n",
      "seller_city : 611\n",
      "seller_state : 23\n",
      "Shape:  (3095, 4)\n"
     ]
    }
   ],
   "source": [
    "# Primary analysis\n",
    "for column in sellers:\n",
    "    print(f\"{column} : {len(sellers[column].unique())}\")\n",
    "\n",
    "print(\"Shape: \", sellers.shape)"
   ]
  },
  {
   "cell_type": "code",
   "execution_count": 37,
   "id": "137584e8",
   "metadata": {},
   "outputs": [],
   "source": [
    "# Unique count of seller_id is the same as the length of seller table. Hence, unique value for each row"
   ]
  },
  {
   "cell_type": "code",
   "execution_count": 38,
   "id": "510c9a39",
   "metadata": {},
   "outputs": [
    {
     "data": {
      "text/html": [
       "<div>\n",
       "<style scoped>\n",
       "    .dataframe tbody tr th:only-of-type {\n",
       "        vertical-align: middle;\n",
       "    }\n",
       "\n",
       "    .dataframe tbody tr th {\n",
       "        vertical-align: top;\n",
       "    }\n",
       "\n",
       "    .dataframe thead th {\n",
       "        text-align: right;\n",
       "    }\n",
       "</style>\n",
       "<table border=\"1\" class=\"dataframe\">\n",
       "  <thead>\n",
       "    <tr style=\"text-align: right;\">\n",
       "      <th></th>\n",
       "      <th>seller_id</th>\n",
       "      <th>seller_zip_code_prefix</th>\n",
       "      <th>seller_city</th>\n",
       "      <th>seller_state</th>\n",
       "    </tr>\n",
       "  </thead>\n",
       "  <tbody>\n",
       "    <tr>\n",
       "      <th>0</th>\n",
       "      <td>3442f8959a84dea7ee197c632cb2df15</td>\n",
       "      <td>13023</td>\n",
       "      <td>campinas</td>\n",
       "      <td>SP</td>\n",
       "    </tr>\n",
       "    <tr>\n",
       "      <th>1</th>\n",
       "      <td>d1b65fc7debc3361ea86b5f14c68d2e2</td>\n",
       "      <td>13844</td>\n",
       "      <td>mogi guacu</td>\n",
       "      <td>SP</td>\n",
       "    </tr>\n",
       "    <tr>\n",
       "      <th>2</th>\n",
       "      <td>ce3ad9de960102d0677a81f5d0bb7b2d</td>\n",
       "      <td>20031</td>\n",
       "      <td>rio de janeiro</td>\n",
       "      <td>RJ</td>\n",
       "    </tr>\n",
       "    <tr>\n",
       "      <th>3</th>\n",
       "      <td>c0f3eea2e14555b6faeea3dd58c1b1c3</td>\n",
       "      <td>04195</td>\n",
       "      <td>sao paulo</td>\n",
       "      <td>SP</td>\n",
       "    </tr>\n",
       "    <tr>\n",
       "      <th>4</th>\n",
       "      <td>51a04a8a6bdcb23deccc82b0b80742cf</td>\n",
       "      <td>12914</td>\n",
       "      <td>braganca paulista</td>\n",
       "      <td>SP</td>\n",
       "    </tr>\n",
       "  </tbody>\n",
       "</table>\n",
       "</div>"
      ],
      "text/plain": [
       "                          seller_id seller_zip_code_prefix        seller_city  \\\n",
       "0  3442f8959a84dea7ee197c632cb2df15                  13023           campinas   \n",
       "1  d1b65fc7debc3361ea86b5f14c68d2e2                  13844         mogi guacu   \n",
       "2  ce3ad9de960102d0677a81f5d0bb7b2d                  20031     rio de janeiro   \n",
       "3  c0f3eea2e14555b6faeea3dd58c1b1c3                  04195          sao paulo   \n",
       "4  51a04a8a6bdcb23deccc82b0b80742cf                  12914  braganca paulista   \n",
       "\n",
       "  seller_state  \n",
       "0           SP  \n",
       "1           SP  \n",
       "2           RJ  \n",
       "3           SP  \n",
       "4           SP  "
      ]
     },
     "execution_count": 38,
     "metadata": {},
     "output_type": "execute_result"
    }
   ],
   "source": [
    "sellers.head()"
   ]
  },
  {
   "cell_type": "code",
   "execution_count": 39,
   "id": "d0833577",
   "metadata": {},
   "outputs": [],
   "source": [
    "# Normalize seller_id column\n",
    "sellers[\"seller_id\"] = (\n",
    "    sellers[\"seller_id\"]\n",
    "    .str.lower()\n",
    "    .str.strip()\n",
    "    .str.replace(r\"\\s+\", \"\", regex = True)\n",
    ")\n",
    "\n",
    "# Convert seller_zip_code_prefix to int, coercing errors\n",
    "\n",
    "sellers[\"seller_zip_code_prefix\"] = (\n",
    "    pd.to_numeric(sellers[\"seller_zip_code_prefix\"],\n",
    "                  errors= \"coerce\")\n",
    ")\n",
    "\n",
    "# Normalize sller_city column\n",
    "sellers[\"seller_city\"] = (\n",
    "    sellers[\"seller_city\"]\n",
    "    .str.lower()\n",
    "    .str.strip()\n",
    "    .str.replace(r\"\\s+\", \" \", regex=True)\n",
    "    .str.title()\n",
    ")\n",
    "\n",
    "#Normalize seller_state column\n",
    "sellers[\"seller_state\"] = (\n",
    "    sellers[\"seller_state\"]\n",
    "    .str.upper()\n",
    "    .str.strip()\n",
    ")"
   ]
  },
  {
   "cell_type": "code",
   "execution_count": 40,
   "id": "b545eca6",
   "metadata": {},
   "outputs": [
    {
     "data": {
      "text/plain": [
       "0"
      ]
     },
     "execution_count": 40,
     "metadata": {},
     "output_type": "execute_result"
    }
   ],
   "source": [
    "sellers[\"seller_zip_code_prefix\"].isna().sum() # Check for null values in zip_cod_prefix column"
   ]
  },
  {
   "cell_type": "code",
   "execution_count": 41,
   "id": "9356be30",
   "metadata": {},
   "outputs": [
    {
     "name": "stdout",
     "output_type": "stream",
     "text": [
      "<class 'pandas.core.frame.DataFrame'>\n",
      "RangeIndex: 3095 entries, 0 to 3094\n",
      "Data columns (total 4 columns):\n",
      " #   Column                  Non-Null Count  Dtype \n",
      "---  ------                  --------------  ----- \n",
      " 0   seller_id               3095 non-null   object\n",
      " 1   seller_zip_code_prefix  3095 non-null   int64 \n",
      " 2   seller_city             3095 non-null   object\n",
      " 3   seller_state            3095 non-null   object\n",
      "dtypes: int64(1), object(3)\n",
      "memory usage: 96.8+ KB\n"
     ]
    }
   ],
   "source": [
    "sellers.info()  # General observation"
   ]
  },
  {
   "cell_type": "code",
   "execution_count": 42,
   "id": "ae14454a",
   "metadata": {},
   "outputs": [],
   "source": [
    "sellers[\"clean_city\"] = sellers[\"seller_city\"].apply(normalize_city)    # Creating a normalized column of city"
   ]
  },
  {
   "cell_type": "code",
   "execution_count": 43,
   "id": "bbc177dd",
   "metadata": {},
   "outputs": [
    {
     "data": {
      "text/plain": [
       "606"
      ]
     },
     "execution_count": 43,
     "metadata": {},
     "output_type": "execute_result"
    }
   ],
   "source": [
    "sellers[\"clean_city\"].nunique() # Checking unique counts of normalized city column"
   ]
  },
  {
   "cell_type": "code",
   "execution_count": 44,
   "id": "e4a2667c",
   "metadata": {},
   "outputs": [],
   "source": [
    "# Earlier there were 611 unique counts for seller_city and there are 606 unique counts for clean_city\n",
    "# That means seller_city has duplicate values but not visibly duplicate because of non-english characters\n",
    "# So will replace seller_city with clean_city\n"
   ]
  },
  {
   "cell_type": "code",
   "execution_count": 45,
   "id": "2856dd2f",
   "metadata": {},
   "outputs": [],
   "source": [
    "sellers[\"seller_city\"] = sellers[\"clean_city\"]  # Swappign seller_city with clean_city values"
   ]
  },
  {
   "cell_type": "code",
   "execution_count": 46,
   "id": "586dd829",
   "metadata": {},
   "outputs": [],
   "source": [
    "del sellers[\"clean_city\"]   # Delete clean_city column as it is redundant"
   ]
  },
  {
   "cell_type": "code",
   "execution_count": 47,
   "id": "2fb3a019",
   "metadata": {},
   "outputs": [
    {
     "data": {
      "text/plain": [
       "606"
      ]
     },
     "execution_count": 47,
     "metadata": {},
     "output_type": "execute_result"
    }
   ],
   "source": [
    "sellers[\"seller_city\"].nunique()    # Sanity check for unique count"
   ]
  },
  {
   "cell_type": "markdown",
   "id": "0c3e38aa",
   "metadata": {},
   "source": [
    "### Analyzing Products Table"
   ]
  },
  {
   "cell_type": "code",
   "execution_count": 48,
   "id": "71f96237",
   "metadata": {},
   "outputs": [
    {
     "data": {
      "text/html": [
       "<div>\n",
       "<style scoped>\n",
       "    .dataframe tbody tr th:only-of-type {\n",
       "        vertical-align: middle;\n",
       "    }\n",
       "\n",
       "    .dataframe tbody tr th {\n",
       "        vertical-align: top;\n",
       "    }\n",
       "\n",
       "    .dataframe thead th {\n",
       "        text-align: right;\n",
       "    }\n",
       "</style>\n",
       "<table border=\"1\" class=\"dataframe\">\n",
       "  <thead>\n",
       "    <tr style=\"text-align: right;\">\n",
       "      <th></th>\n",
       "      <th>product_id</th>\n",
       "      <th>product_category_name</th>\n",
       "      <th>product_name_lenght</th>\n",
       "      <th>product_description_lenght</th>\n",
       "      <th>product_photos_qty</th>\n",
       "      <th>product_weight_g</th>\n",
       "      <th>product_length_cm</th>\n",
       "      <th>product_height_cm</th>\n",
       "      <th>product_width_cm</th>\n",
       "    </tr>\n",
       "  </thead>\n",
       "  <tbody>\n",
       "    <tr>\n",
       "      <th>0</th>\n",
       "      <td>1e9e8ef04dbcff4541ed26657ea517e5</td>\n",
       "      <td>perfumaria</td>\n",
       "      <td>40</td>\n",
       "      <td>287</td>\n",
       "      <td>1</td>\n",
       "      <td>225</td>\n",
       "      <td>16</td>\n",
       "      <td>10</td>\n",
       "      <td>14</td>\n",
       "    </tr>\n",
       "    <tr>\n",
       "      <th>1</th>\n",
       "      <td>3aa071139cb16b67ca9e5dea641aaa2f</td>\n",
       "      <td>artes</td>\n",
       "      <td>44</td>\n",
       "      <td>276</td>\n",
       "      <td>1</td>\n",
       "      <td>1000</td>\n",
       "      <td>30</td>\n",
       "      <td>18</td>\n",
       "      <td>20</td>\n",
       "    </tr>\n",
       "    <tr>\n",
       "      <th>2</th>\n",
       "      <td>96bd76ec8810374ed1b65e291975717f</td>\n",
       "      <td>esporte_lazer</td>\n",
       "      <td>46</td>\n",
       "      <td>250</td>\n",
       "      <td>1</td>\n",
       "      <td>154</td>\n",
       "      <td>18</td>\n",
       "      <td>9</td>\n",
       "      <td>15</td>\n",
       "    </tr>\n",
       "    <tr>\n",
       "      <th>3</th>\n",
       "      <td>cef67bcfe19066a932b7673e239eb23d</td>\n",
       "      <td>bebes</td>\n",
       "      <td>27</td>\n",
       "      <td>261</td>\n",
       "      <td>1</td>\n",
       "      <td>371</td>\n",
       "      <td>26</td>\n",
       "      <td>4</td>\n",
       "      <td>26</td>\n",
       "    </tr>\n",
       "    <tr>\n",
       "      <th>4</th>\n",
       "      <td>9dc1a7de274444849c219cff195d0b71</td>\n",
       "      <td>utilidades_domesticas</td>\n",
       "      <td>37</td>\n",
       "      <td>402</td>\n",
       "      <td>4</td>\n",
       "      <td>625</td>\n",
       "      <td>20</td>\n",
       "      <td>17</td>\n",
       "      <td>13</td>\n",
       "    </tr>\n",
       "  </tbody>\n",
       "</table>\n",
       "</div>"
      ],
      "text/plain": [
       "                         product_id  product_category_name  \\\n",
       "0  1e9e8ef04dbcff4541ed26657ea517e5             perfumaria   \n",
       "1  3aa071139cb16b67ca9e5dea641aaa2f                  artes   \n",
       "2  96bd76ec8810374ed1b65e291975717f          esporte_lazer   \n",
       "3  cef67bcfe19066a932b7673e239eb23d                  bebes   \n",
       "4  9dc1a7de274444849c219cff195d0b71  utilidades_domesticas   \n",
       "\n",
       "  product_name_lenght product_description_lenght product_photos_qty  \\\n",
       "0                  40                        287                  1   \n",
       "1                  44                        276                  1   \n",
       "2                  46                        250                  1   \n",
       "3                  27                        261                  1   \n",
       "4                  37                        402                  4   \n",
       "\n",
       "  product_weight_g product_length_cm product_height_cm product_width_cm  \n",
       "0              225                16                10               14  \n",
       "1             1000                30                18               20  \n",
       "2              154                18                 9               15  \n",
       "3              371                26                 4               26  \n",
       "4              625                20                17               13  "
      ]
     },
     "execution_count": 48,
     "metadata": {},
     "output_type": "execute_result"
    }
   ],
   "source": [
    "products.head()     # General view"
   ]
  },
  {
   "cell_type": "code",
   "execution_count": 49,
   "id": "c13d0980",
   "metadata": {},
   "outputs": [
    {
     "name": "stdout",
     "output_type": "stream",
     "text": [
      "product_id : 32951\n",
      "product_category_name : 74\n",
      "product_name_lenght : 67\n",
      "product_description_lenght : 2961\n",
      "product_photos_qty : 20\n",
      "product_weight_g : 2205\n",
      "product_length_cm : 100\n",
      "product_height_cm : 103\n",
      "product_width_cm : 96\n",
      "Shape: (32951, 9)\n"
     ]
    }
   ],
   "source": [
    "# Primary Analysis\n",
    "for column in products:\n",
    "    print(f\"{column} : {len(products[column].unique())}\")\n",
    "print(\"Shape:\", products.shape)"
   ]
  },
  {
   "cell_type": "code",
   "execution_count": 50,
   "id": "21055708",
   "metadata": {},
   "outputs": [],
   "source": [
    "# Unique count of product_id is same as the length of products table\n",
    "\n",
    "# Need to change the name of product_despcritpion_lenght and product_name_lenght column"
   ]
  },
  {
   "cell_type": "code",
   "execution_count": 51,
   "id": "18bd1b82",
   "metadata": {},
   "outputs": [],
   "source": [
    "# Renaming the columns\n",
    "products.rename(\n",
    "    columns={\n",
    "        \"product_name_lenght\" : \"product_name_length\",\n",
    "        \"product_description_lenght\": \"product_description_length\"\n",
    "        }, inplace=True\n",
    "    )"
   ]
  },
  {
   "cell_type": "code",
   "execution_count": 52,
   "id": "8c1de5e0",
   "metadata": {},
   "outputs": [
    {
     "data": {
      "text/html": [
       "<div>\n",
       "<style scoped>\n",
       "    .dataframe tbody tr th:only-of-type {\n",
       "        vertical-align: middle;\n",
       "    }\n",
       "\n",
       "    .dataframe tbody tr th {\n",
       "        vertical-align: top;\n",
       "    }\n",
       "\n",
       "    .dataframe thead th {\n",
       "        text-align: right;\n",
       "    }\n",
       "</style>\n",
       "<table border=\"1\" class=\"dataframe\">\n",
       "  <thead>\n",
       "    <tr style=\"text-align: right;\">\n",
       "      <th></th>\n",
       "      <th>product_id</th>\n",
       "      <th>product_category_name</th>\n",
       "      <th>product_name_length</th>\n",
       "      <th>product_description_length</th>\n",
       "      <th>product_photos_qty</th>\n",
       "      <th>product_weight_g</th>\n",
       "      <th>product_length_cm</th>\n",
       "      <th>product_height_cm</th>\n",
       "      <th>product_width_cm</th>\n",
       "    </tr>\n",
       "  </thead>\n",
       "  <tbody>\n",
       "    <tr>\n",
       "      <th>0</th>\n",
       "      <td>1e9e8ef04dbcff4541ed26657ea517e5</td>\n",
       "      <td>perfumaria</td>\n",
       "      <td>40</td>\n",
       "      <td>287</td>\n",
       "      <td>1</td>\n",
       "      <td>225</td>\n",
       "      <td>16</td>\n",
       "      <td>10</td>\n",
       "      <td>14</td>\n",
       "    </tr>\n",
       "    <tr>\n",
       "      <th>1</th>\n",
       "      <td>3aa071139cb16b67ca9e5dea641aaa2f</td>\n",
       "      <td>artes</td>\n",
       "      <td>44</td>\n",
       "      <td>276</td>\n",
       "      <td>1</td>\n",
       "      <td>1000</td>\n",
       "      <td>30</td>\n",
       "      <td>18</td>\n",
       "      <td>20</td>\n",
       "    </tr>\n",
       "    <tr>\n",
       "      <th>2</th>\n",
       "      <td>96bd76ec8810374ed1b65e291975717f</td>\n",
       "      <td>esporte_lazer</td>\n",
       "      <td>46</td>\n",
       "      <td>250</td>\n",
       "      <td>1</td>\n",
       "      <td>154</td>\n",
       "      <td>18</td>\n",
       "      <td>9</td>\n",
       "      <td>15</td>\n",
       "    </tr>\n",
       "    <tr>\n",
       "      <th>3</th>\n",
       "      <td>cef67bcfe19066a932b7673e239eb23d</td>\n",
       "      <td>bebes</td>\n",
       "      <td>27</td>\n",
       "      <td>261</td>\n",
       "      <td>1</td>\n",
       "      <td>371</td>\n",
       "      <td>26</td>\n",
       "      <td>4</td>\n",
       "      <td>26</td>\n",
       "    </tr>\n",
       "    <tr>\n",
       "      <th>4</th>\n",
       "      <td>9dc1a7de274444849c219cff195d0b71</td>\n",
       "      <td>utilidades_domesticas</td>\n",
       "      <td>37</td>\n",
       "      <td>402</td>\n",
       "      <td>4</td>\n",
       "      <td>625</td>\n",
       "      <td>20</td>\n",
       "      <td>17</td>\n",
       "      <td>13</td>\n",
       "    </tr>\n",
       "  </tbody>\n",
       "</table>\n",
       "</div>"
      ],
      "text/plain": [
       "                         product_id  product_category_name  \\\n",
       "0  1e9e8ef04dbcff4541ed26657ea517e5             perfumaria   \n",
       "1  3aa071139cb16b67ca9e5dea641aaa2f                  artes   \n",
       "2  96bd76ec8810374ed1b65e291975717f          esporte_lazer   \n",
       "3  cef67bcfe19066a932b7673e239eb23d                  bebes   \n",
       "4  9dc1a7de274444849c219cff195d0b71  utilidades_domesticas   \n",
       "\n",
       "  product_name_length product_description_length product_photos_qty  \\\n",
       "0                  40                        287                  1   \n",
       "1                  44                        276                  1   \n",
       "2                  46                        250                  1   \n",
       "3                  27                        261                  1   \n",
       "4                  37                        402                  4   \n",
       "\n",
       "  product_weight_g product_length_cm product_height_cm product_width_cm  \n",
       "0              225                16                10               14  \n",
       "1             1000                30                18               20  \n",
       "2              154                18                 9               15  \n",
       "3              371                26                 4               26  \n",
       "4              625                20                17               13  "
      ]
     },
     "execution_count": 52,
     "metadata": {},
     "output_type": "execute_result"
    }
   ],
   "source": [
    "products.head()"
   ]
  },
  {
   "cell_type": "code",
   "execution_count": 53,
   "id": "95256a5c",
   "metadata": {},
   "outputs": [],
   "source": [
    "# Merging the English category names with the product table\n",
    "\n",
    "products = products.merge(\n",
    "    cat_translation,\n",
    "    on = \"product_category_name\",\n",
    "    how = \"left\"\n",
    ")"
   ]
  },
  {
   "cell_type": "code",
   "execution_count": 54,
   "id": "3323d632",
   "metadata": {},
   "outputs": [],
   "source": [
    "# As observed earlier there are some null values in the prouducts table"
   ]
  },
  {
   "cell_type": "code",
   "execution_count": 55,
   "id": "2d0da21d",
   "metadata": {},
   "outputs": [
    {
     "data": {
      "text/plain": [
       "product_id                         0\n",
       "product_category_name            610\n",
       "product_name_length              610\n",
       "product_description_length       610\n",
       "product_photos_qty               610\n",
       "product_weight_g                   2\n",
       "product_length_cm                  2\n",
       "product_height_cm                  2\n",
       "product_width_cm                   2\n",
       "product_category_name_english    623\n",
       "dtype: int64"
      ]
     },
     "execution_count": 55,
     "metadata": {},
     "output_type": "execute_result"
    }
   ],
   "source": [
    "products.isnull().sum() # Observing the null values"
   ]
  },
  {
   "cell_type": "code",
   "execution_count": 56,
   "id": "28e154f7",
   "metadata": {},
   "outputs": [
    {
     "data": {
      "text/html": [
       "<div>\n",
       "<style scoped>\n",
       "    .dataframe tbody tr th:only-of-type {\n",
       "        vertical-align: middle;\n",
       "    }\n",
       "\n",
       "    .dataframe tbody tr th {\n",
       "        vertical-align: top;\n",
       "    }\n",
       "\n",
       "    .dataframe thead th {\n",
       "        text-align: right;\n",
       "    }\n",
       "</style>\n",
       "<table border=\"1\" class=\"dataframe\">\n",
       "  <thead>\n",
       "    <tr style=\"text-align: right;\">\n",
       "      <th></th>\n",
       "      <th>product_id</th>\n",
       "      <th>product_category_name</th>\n",
       "      <th>product_name_length</th>\n",
       "      <th>product_description_length</th>\n",
       "      <th>product_photos_qty</th>\n",
       "      <th>product_weight_g</th>\n",
       "      <th>product_length_cm</th>\n",
       "      <th>product_height_cm</th>\n",
       "      <th>product_width_cm</th>\n",
       "      <th>product_category_name_english</th>\n",
       "    </tr>\n",
       "  </thead>\n",
       "  <tbody>\n",
       "    <tr>\n",
       "      <th>105</th>\n",
       "      <td>a41e356c76fab66334f36de622ecbd3a</td>\n",
       "      <td>None</td>\n",
       "      <td>None</td>\n",
       "      <td>None</td>\n",
       "      <td>None</td>\n",
       "      <td>650</td>\n",
       "      <td>17</td>\n",
       "      <td>14</td>\n",
       "      <td>12</td>\n",
       "      <td>NaN</td>\n",
       "    </tr>\n",
       "    <tr>\n",
       "      <th>128</th>\n",
       "      <td>d8dee61c2034d6d075997acef1870e9b</td>\n",
       "      <td>None</td>\n",
       "      <td>None</td>\n",
       "      <td>None</td>\n",
       "      <td>None</td>\n",
       "      <td>300</td>\n",
       "      <td>16</td>\n",
       "      <td>7</td>\n",
       "      <td>20</td>\n",
       "      <td>NaN</td>\n",
       "    </tr>\n",
       "    <tr>\n",
       "      <th>145</th>\n",
       "      <td>56139431d72cd51f19eb9f7dae4d1617</td>\n",
       "      <td>None</td>\n",
       "      <td>None</td>\n",
       "      <td>None</td>\n",
       "      <td>None</td>\n",
       "      <td>200</td>\n",
       "      <td>20</td>\n",
       "      <td>20</td>\n",
       "      <td>20</td>\n",
       "      <td>NaN</td>\n",
       "    </tr>\n",
       "    <tr>\n",
       "      <th>154</th>\n",
       "      <td>46b48281eb6d663ced748f324108c733</td>\n",
       "      <td>None</td>\n",
       "      <td>None</td>\n",
       "      <td>None</td>\n",
       "      <td>None</td>\n",
       "      <td>18500</td>\n",
       "      <td>41</td>\n",
       "      <td>30</td>\n",
       "      <td>41</td>\n",
       "      <td>NaN</td>\n",
       "    </tr>\n",
       "    <tr>\n",
       "      <th>197</th>\n",
       "      <td>5fb61f482620cb672f5e586bb132eae9</td>\n",
       "      <td>None</td>\n",
       "      <td>None</td>\n",
       "      <td>None</td>\n",
       "      <td>None</td>\n",
       "      <td>300</td>\n",
       "      <td>35</td>\n",
       "      <td>7</td>\n",
       "      <td>12</td>\n",
       "      <td>NaN</td>\n",
       "    </tr>\n",
       "    <tr>\n",
       "      <th>...</th>\n",
       "      <td>...</td>\n",
       "      <td>...</td>\n",
       "      <td>...</td>\n",
       "      <td>...</td>\n",
       "      <td>...</td>\n",
       "      <td>...</td>\n",
       "      <td>...</td>\n",
       "      <td>...</td>\n",
       "      <td>...</td>\n",
       "      <td>...</td>\n",
       "    </tr>\n",
       "    <tr>\n",
       "      <th>32515</th>\n",
       "      <td>b0a0c5dd78e644373b199380612c350a</td>\n",
       "      <td>None</td>\n",
       "      <td>None</td>\n",
       "      <td>None</td>\n",
       "      <td>None</td>\n",
       "      <td>1800</td>\n",
       "      <td>30</td>\n",
       "      <td>20</td>\n",
       "      <td>70</td>\n",
       "      <td>NaN</td>\n",
       "    </tr>\n",
       "    <tr>\n",
       "      <th>32589</th>\n",
       "      <td>10dbe0fbaa2c505123c17fdc34a63c56</td>\n",
       "      <td>None</td>\n",
       "      <td>None</td>\n",
       "      <td>None</td>\n",
       "      <td>None</td>\n",
       "      <td>800</td>\n",
       "      <td>30</td>\n",
       "      <td>10</td>\n",
       "      <td>23</td>\n",
       "      <td>NaN</td>\n",
       "    </tr>\n",
       "    <tr>\n",
       "      <th>32616</th>\n",
       "      <td>bd2ada37b58ae94cc838b9c0569fecd8</td>\n",
       "      <td>None</td>\n",
       "      <td>None</td>\n",
       "      <td>None</td>\n",
       "      <td>None</td>\n",
       "      <td>200</td>\n",
       "      <td>21</td>\n",
       "      <td>8</td>\n",
       "      <td>16</td>\n",
       "      <td>NaN</td>\n",
       "    </tr>\n",
       "    <tr>\n",
       "      <th>32772</th>\n",
       "      <td>fa51e914046aab32764c41356b9d4ea4</td>\n",
       "      <td>None</td>\n",
       "      <td>None</td>\n",
       "      <td>None</td>\n",
       "      <td>None</td>\n",
       "      <td>1300</td>\n",
       "      <td>45</td>\n",
       "      <td>16</td>\n",
       "      <td>45</td>\n",
       "      <td>NaN</td>\n",
       "    </tr>\n",
       "    <tr>\n",
       "      <th>32852</th>\n",
       "      <td>c4ceee876c82b8328e9c293fa0e1989b</td>\n",
       "      <td>None</td>\n",
       "      <td>None</td>\n",
       "      <td>None</td>\n",
       "      <td>None</td>\n",
       "      <td>700</td>\n",
       "      <td>28</td>\n",
       "      <td>3</td>\n",
       "      <td>43</td>\n",
       "      <td>NaN</td>\n",
       "    </tr>\n",
       "  </tbody>\n",
       "</table>\n",
       "<p>624 rows × 10 columns</p>\n",
       "</div>"
      ],
      "text/plain": [
       "                             product_id product_category_name  \\\n",
       "105    a41e356c76fab66334f36de622ecbd3a                  None   \n",
       "128    d8dee61c2034d6d075997acef1870e9b                  None   \n",
       "145    56139431d72cd51f19eb9f7dae4d1617                  None   \n",
       "154    46b48281eb6d663ced748f324108c733                  None   \n",
       "197    5fb61f482620cb672f5e586bb132eae9                  None   \n",
       "...                                 ...                   ...   \n",
       "32515  b0a0c5dd78e644373b199380612c350a                  None   \n",
       "32589  10dbe0fbaa2c505123c17fdc34a63c56                  None   \n",
       "32616  bd2ada37b58ae94cc838b9c0569fecd8                  None   \n",
       "32772  fa51e914046aab32764c41356b9d4ea4                  None   \n",
       "32852  c4ceee876c82b8328e9c293fa0e1989b                  None   \n",
       "\n",
       "      product_name_length product_description_length product_photos_qty  \\\n",
       "105                  None                       None               None   \n",
       "128                  None                       None               None   \n",
       "145                  None                       None               None   \n",
       "154                  None                       None               None   \n",
       "197                  None                       None               None   \n",
       "...                   ...                        ...                ...   \n",
       "32515                None                       None               None   \n",
       "32589                None                       None               None   \n",
       "32616                None                       None               None   \n",
       "32772                None                       None               None   \n",
       "32852                None                       None               None   \n",
       "\n",
       "      product_weight_g product_length_cm product_height_cm product_width_cm  \\\n",
       "105                650                17                14               12   \n",
       "128                300                16                 7               20   \n",
       "145                200                20                20               20   \n",
       "154              18500                41                30               41   \n",
       "197                300                35                 7               12   \n",
       "...                ...               ...               ...              ...   \n",
       "32515             1800                30                20               70   \n",
       "32589              800                30                10               23   \n",
       "32616              200                21                 8               16   \n",
       "32772             1300                45                16               45   \n",
       "32852              700                28                 3               43   \n",
       "\n",
       "      product_category_name_english  \n",
       "105                             NaN  \n",
       "128                             NaN  \n",
       "145                             NaN  \n",
       "154                             NaN  \n",
       "197                             NaN  \n",
       "...                             ...  \n",
       "32515                           NaN  \n",
       "32589                           NaN  \n",
       "32616                           NaN  \n",
       "32772                           NaN  \n",
       "32852                           NaN  \n",
       "\n",
       "[624 rows x 10 columns]"
      ]
     },
     "execution_count": 56,
     "metadata": {},
     "output_type": "execute_result"
    }
   ],
   "source": [
    "# Analysing null values in the products table\n",
    "products[\n",
    "    (products[\"product_category_name\"].isna()) | \n",
    "    (products[\"product_name_length\"].isna()) | \n",
    "    (products[\"product_description_length\"].isna()) |\n",
    "    (products[\"product_category_name_english\"].isna()) |\n",
    "    (products[\"product_length_cm\"].isna()) |\n",
    "    (products[\"product_width_cm\"].isna()) |\n",
    "    (products[\"product_height_cm\"].isna())\n",
    "]"
   ]
  },
  {
   "cell_type": "code",
   "execution_count": 57,
   "id": "b2e3b20f",
   "metadata": {},
   "outputs": [
    {
     "data": {
      "text/html": [
       "<div>\n",
       "<style scoped>\n",
       "    .dataframe tbody tr th:only-of-type {\n",
       "        vertical-align: middle;\n",
       "    }\n",
       "\n",
       "    .dataframe tbody tr th {\n",
       "        vertical-align: top;\n",
       "    }\n",
       "\n",
       "    .dataframe thead th {\n",
       "        text-align: right;\n",
       "    }\n",
       "</style>\n",
       "<table border=\"1\" class=\"dataframe\">\n",
       "  <thead>\n",
       "    <tr style=\"text-align: right;\">\n",
       "      <th></th>\n",
       "      <th>product_id</th>\n",
       "      <th>product_category_name</th>\n",
       "      <th>product_name_length</th>\n",
       "      <th>product_description_length</th>\n",
       "      <th>product_photos_qty</th>\n",
       "      <th>product_weight_g</th>\n",
       "      <th>product_length_cm</th>\n",
       "      <th>product_height_cm</th>\n",
       "      <th>product_width_cm</th>\n",
       "      <th>product_category_name_english</th>\n",
       "    </tr>\n",
       "  </thead>\n",
       "  <tbody>\n",
       "    <tr>\n",
       "      <th>1628</th>\n",
       "      <td>0105b5323d24fc655f73052694dbbb3a</td>\n",
       "      <td>pc_gamer</td>\n",
       "      <td>59</td>\n",
       "      <td>621</td>\n",
       "      <td>4</td>\n",
       "      <td>2839</td>\n",
       "      <td>19</td>\n",
       "      <td>16</td>\n",
       "      <td>18</td>\n",
       "      <td>NaN</td>\n",
       "    </tr>\n",
       "    <tr>\n",
       "      <th>5821</th>\n",
       "      <td>6fd83eb3e0799b775e4f946bd66657c0</td>\n",
       "      <td>portateis_cozinha_e_preparadores_de_alimentos</td>\n",
       "      <td>52</td>\n",
       "      <td>280</td>\n",
       "      <td>1</td>\n",
       "      <td>1200</td>\n",
       "      <td>25</td>\n",
       "      <td>33</td>\n",
       "      <td>25</td>\n",
       "      <td>NaN</td>\n",
       "    </tr>\n",
       "    <tr>\n",
       "      <th>7325</th>\n",
       "      <td>5d923ead886c44b86845f69e50520c3e</td>\n",
       "      <td>portateis_cozinha_e_preparadores_de_alimentos</td>\n",
       "      <td>58</td>\n",
       "      <td>284</td>\n",
       "      <td>1</td>\n",
       "      <td>1200</td>\n",
       "      <td>25</td>\n",
       "      <td>33</td>\n",
       "      <td>25</td>\n",
       "      <td>NaN</td>\n",
       "    </tr>\n",
       "    <tr>\n",
       "      <th>7478</th>\n",
       "      <td>6727051471a0fc4a0e7737b57bff2549</td>\n",
       "      <td>pc_gamer</td>\n",
       "      <td>60</td>\n",
       "      <td>1532</td>\n",
       "      <td>3</td>\n",
       "      <td>650</td>\n",
       "      <td>16</td>\n",
       "      <td>22</td>\n",
       "      <td>20</td>\n",
       "      <td>NaN</td>\n",
       "    </tr>\n",
       "    <tr>\n",
       "      <th>8819</th>\n",
       "      <td>bed164d9d628cf0593003389c535c6e0</td>\n",
       "      <td>portateis_cozinha_e_preparadores_de_alimentos</td>\n",
       "      <td>54</td>\n",
       "      <td>382</td>\n",
       "      <td>2</td>\n",
       "      <td>850</td>\n",
       "      <td>30</td>\n",
       "      <td>21</td>\n",
       "      <td>22</td>\n",
       "      <td>NaN</td>\n",
       "    </tr>\n",
       "    <tr>\n",
       "      <th>11039</th>\n",
       "      <td>1220978a08a6b29a202bc015b18250e9</td>\n",
       "      <td>portateis_cozinha_e_preparadores_de_alimentos</td>\n",
       "      <td>46</td>\n",
       "      <td>280</td>\n",
       "      <td>1</td>\n",
       "      <td>1200</td>\n",
       "      <td>25</td>\n",
       "      <td>33</td>\n",
       "      <td>25</td>\n",
       "      <td>NaN</td>\n",
       "    </tr>\n",
       "    <tr>\n",
       "      <th>14266</th>\n",
       "      <td>ae62bb0f95af63d64eae5f93dddea8d3</td>\n",
       "      <td>portateis_cozinha_e_preparadores_de_alimentos</td>\n",
       "      <td>59</td>\n",
       "      <td>927</td>\n",
       "      <td>1</td>\n",
       "      <td>10600</td>\n",
       "      <td>40</td>\n",
       "      <td>20</td>\n",
       "      <td>38</td>\n",
       "      <td>NaN</td>\n",
       "    </tr>\n",
       "    <tr>\n",
       "      <th>16182</th>\n",
       "      <td>1954739d84629e7323a4295812a3e0ec</td>\n",
       "      <td>portateis_cozinha_e_preparadores_de_alimentos</td>\n",
       "      <td>58</td>\n",
       "      <td>792</td>\n",
       "      <td>4</td>\n",
       "      <td>750</td>\n",
       "      <td>30</td>\n",
       "      <td>30</td>\n",
       "      <td>30</td>\n",
       "      <td>NaN</td>\n",
       "    </tr>\n",
       "    <tr>\n",
       "      <th>16930</th>\n",
       "      <td>dbe520fb381ad695a7e1f2807d20c765</td>\n",
       "      <td>pc_gamer</td>\n",
       "      <td>60</td>\n",
       "      <td>840</td>\n",
       "      <td>6</td>\n",
       "      <td>800</td>\n",
       "      <td>18</td>\n",
       "      <td>22</td>\n",
       "      <td>22</td>\n",
       "      <td>NaN</td>\n",
       "    </tr>\n",
       "    <tr>\n",
       "      <th>17800</th>\n",
       "      <td>c7a3f1a7f9eef146cc499368b578b884</td>\n",
       "      <td>portateis_cozinha_e_preparadores_de_alimentos</td>\n",
       "      <td>52</td>\n",
       "      <td>1372</td>\n",
       "      <td>5</td>\n",
       "      <td>7350</td>\n",
       "      <td>40</td>\n",
       "      <td>30</td>\n",
       "      <td>23</td>\n",
       "      <td>NaN</td>\n",
       "    </tr>\n",
       "    <tr>\n",
       "      <th>18610</th>\n",
       "      <td>7afdd65f79f63819ff5bee328843fa37</td>\n",
       "      <td>portateis_cozinha_e_preparadores_de_alimentos</td>\n",
       "      <td>48</td>\n",
       "      <td>305</td>\n",
       "      <td>1</td>\n",
       "      <td>750</td>\n",
       "      <td>20</td>\n",
       "      <td>20</td>\n",
       "      <td>20</td>\n",
       "      <td>NaN</td>\n",
       "    </tr>\n",
       "    <tr>\n",
       "      <th>26890</th>\n",
       "      <td>a4756663d007b0cd1af865754d08d968</td>\n",
       "      <td>portateis_cozinha_e_preparadores_de_alimentos</td>\n",
       "      <td>60</td>\n",
       "      <td>1304</td>\n",
       "      <td>4</td>\n",
       "      <td>650</td>\n",
       "      <td>22</td>\n",
       "      <td>6</td>\n",
       "      <td>14</td>\n",
       "      <td>NaN</td>\n",
       "    </tr>\n",
       "    <tr>\n",
       "      <th>29919</th>\n",
       "      <td>cb9d764f38ee4d0c00af64d5c388f837</td>\n",
       "      <td>portateis_cozinha_e_preparadores_de_alimentos</td>\n",
       "      <td>57</td>\n",
       "      <td>306</td>\n",
       "      <td>1</td>\n",
       "      <td>625</td>\n",
       "      <td>28</td>\n",
       "      <td>27</td>\n",
       "      <td>24</td>\n",
       "      <td>NaN</td>\n",
       "    </tr>\n",
       "  </tbody>\n",
       "</table>\n",
       "</div>"
      ],
      "text/plain": [
       "                             product_id  \\\n",
       "1628   0105b5323d24fc655f73052694dbbb3a   \n",
       "5821   6fd83eb3e0799b775e4f946bd66657c0   \n",
       "7325   5d923ead886c44b86845f69e50520c3e   \n",
       "7478   6727051471a0fc4a0e7737b57bff2549   \n",
       "8819   bed164d9d628cf0593003389c535c6e0   \n",
       "11039  1220978a08a6b29a202bc015b18250e9   \n",
       "14266  ae62bb0f95af63d64eae5f93dddea8d3   \n",
       "16182  1954739d84629e7323a4295812a3e0ec   \n",
       "16930  dbe520fb381ad695a7e1f2807d20c765   \n",
       "17800  c7a3f1a7f9eef146cc499368b578b884   \n",
       "18610  7afdd65f79f63819ff5bee328843fa37   \n",
       "26890  a4756663d007b0cd1af865754d08d968   \n",
       "29919  cb9d764f38ee4d0c00af64d5c388f837   \n",
       "\n",
       "                               product_category_name product_name_length  \\\n",
       "1628                                        pc_gamer                  59   \n",
       "5821   portateis_cozinha_e_preparadores_de_alimentos                  52   \n",
       "7325   portateis_cozinha_e_preparadores_de_alimentos                  58   \n",
       "7478                                        pc_gamer                  60   \n",
       "8819   portateis_cozinha_e_preparadores_de_alimentos                  54   \n",
       "11039  portateis_cozinha_e_preparadores_de_alimentos                  46   \n",
       "14266  portateis_cozinha_e_preparadores_de_alimentos                  59   \n",
       "16182  portateis_cozinha_e_preparadores_de_alimentos                  58   \n",
       "16930                                       pc_gamer                  60   \n",
       "17800  portateis_cozinha_e_preparadores_de_alimentos                  52   \n",
       "18610  portateis_cozinha_e_preparadores_de_alimentos                  48   \n",
       "26890  portateis_cozinha_e_preparadores_de_alimentos                  60   \n",
       "29919  portateis_cozinha_e_preparadores_de_alimentos                  57   \n",
       "\n",
       "      product_description_length product_photos_qty product_weight_g  \\\n",
       "1628                         621                  4             2839   \n",
       "5821                         280                  1             1200   \n",
       "7325                         284                  1             1200   \n",
       "7478                        1532                  3              650   \n",
       "8819                         382                  2              850   \n",
       "11039                        280                  1             1200   \n",
       "14266                        927                  1            10600   \n",
       "16182                        792                  4              750   \n",
       "16930                        840                  6              800   \n",
       "17800                       1372                  5             7350   \n",
       "18610                        305                  1              750   \n",
       "26890                       1304                  4              650   \n",
       "29919                        306                  1              625   \n",
       "\n",
       "      product_length_cm product_height_cm product_width_cm  \\\n",
       "1628                 19                16               18   \n",
       "5821                 25                33               25   \n",
       "7325                 25                33               25   \n",
       "7478                 16                22               20   \n",
       "8819                 30                21               22   \n",
       "11039                25                33               25   \n",
       "14266                40                20               38   \n",
       "16182                30                30               30   \n",
       "16930                18                22               22   \n",
       "17800                40                30               23   \n",
       "18610                20                20               20   \n",
       "26890                22                 6               14   \n",
       "29919                28                27               24   \n",
       "\n",
       "      product_category_name_english  \n",
       "1628                            NaN  \n",
       "5821                            NaN  \n",
       "7325                            NaN  \n",
       "7478                            NaN  \n",
       "8819                            NaN  \n",
       "11039                           NaN  \n",
       "14266                           NaN  \n",
       "16182                           NaN  \n",
       "16930                           NaN  \n",
       "17800                           NaN  \n",
       "18610                           NaN  \n",
       "26890                           NaN  \n",
       "29919                           NaN  "
      ]
     },
     "execution_count": 57,
     "metadata": {},
     "output_type": "execute_result"
    }
   ],
   "source": [
    "# Delving into product_category_name_english null values\n",
    "products[(products[\"product_category_name_english\"].isna()) & (~products[\"product_category_name\"].isna())]"
   ]
  },
  {
   "cell_type": "code",
   "execution_count": 58,
   "id": "4b8e9626",
   "metadata": {},
   "outputs": [],
   "source": [
    "# So there are 13 instances where product_category_name is not null while it's English counterpart is null\n",
    "# There are 74 unique counts of product_category_name in products table, while there are only 72 unique counts for product_category_name_English in cat_translation table\n",
    "# So everything adds up"
   ]
  },
  {
   "cell_type": "code",
   "execution_count": 59,
   "id": "9edea53f",
   "metadata": {},
   "outputs": [],
   "source": [
    "# Imputing null values in product_category_name_english column\n",
    "\n",
    "products.loc[\n",
    "    products[\"product_category_name\"]==\"pc_gamer\",\n",
    "    \"product_category_name_english\"\n",
    "    ] = \"pc_gamer\"\n",
    "\n",
    "products.loc[\n",
    "    products[\"product_category_name\"] == \"portateis_cozinha_e_preparadores_de_alimentos\",\n",
    "    \"product_category_name_english\"\n",
    "] = \"Portable Kitchen Food Prepares\""
   ]
  },
  {
   "cell_type": "code",
   "execution_count": 60,
   "id": "c1bdbf91",
   "metadata": {},
   "outputs": [
    {
     "data": {
      "text/plain": [
       "610"
      ]
     },
     "execution_count": 60,
     "metadata": {},
     "output_type": "execute_result"
    }
   ],
   "source": [
    "products[\"product_category_name_english\"].isna().sum()  # Checking null values"
   ]
  },
  {
   "cell_type": "code",
   "execution_count": 61,
   "id": "8aae5c40",
   "metadata": {},
   "outputs": [],
   "source": [
    "# The null values have reduced from 623 to 610 after imputation"
   ]
  },
  {
   "cell_type": "code",
   "execution_count": 62,
   "id": "badc4889",
   "metadata": {},
   "outputs": [
    {
     "data": {
      "text/plain": [
       "Index(['product_id', 'product_category_name', 'product_name_length',\n",
       "       'product_description_length', 'product_photos_qty', 'product_weight_g',\n",
       "       'product_length_cm', 'product_height_cm', 'product_width_cm',\n",
       "       'product_category_name_english'],\n",
       "      dtype='object')"
      ]
     },
     "execution_count": 62,
     "metadata": {},
     "output_type": "execute_result"
    }
   ],
   "source": [
    "products.columns    # Columns in products tables"
   ]
  },
  {
   "cell_type": "code",
   "execution_count": 63,
   "id": "00cc6800",
   "metadata": {},
   "outputs": [],
   "source": [
    "# Converting columns to numerical data type\n",
    "num_col = ['product_description_length', 'product_photos_qty', 'product_weight_g',\n",
    "       'product_length_cm', 'product_height_cm', 'product_width_cm',]\n",
    "\n",
    "for col in num_col:\n",
    "    products[col] = pd.to_numeric(products[col])"
   ]
  },
  {
   "cell_type": "code",
   "execution_count": 64,
   "id": "a1c10452",
   "metadata": {},
   "outputs": [],
   "source": [
    "# Separating columns from num_col into another list\n",
    "num_col_weight_dim = ['product_weight_g',\n",
    "       'product_length_cm', 'product_height_cm', 'product_width_cm']"
   ]
  },
  {
   "cell_type": "code",
   "execution_count": 65,
   "id": "9cb256c4",
   "metadata": {},
   "outputs": [],
   "source": [
    "# Imputing the null values with median\n",
    "medians = products[num_col_weight_dim].median()\n",
    "products[num_col_weight_dim] = products[num_col_weight_dim].fillna(medians)"
   ]
  },
  {
   "cell_type": "code",
   "execution_count": 66,
   "id": "a7461145",
   "metadata": {},
   "outputs": [],
   "source": [
    "# Imputing categorical columns with null values and numerical columns with 0\n",
    "products.fillna({\n",
    "    \"product_category_name\": \"unknown\",\n",
    "    \"product_name_length\" : 0,\n",
    "    \"product_description_length\" : 0,\n",
    "    \"product_photos_qyt\": 0,\n",
    "    \"product_category_name_english\": \"unknown\"\n",
    "    }, inplace=True\n",
    ")"
   ]
  },
  {
   "cell_type": "code",
   "execution_count": 67,
   "id": "2ba2ea7a",
   "metadata": {},
   "outputs": [
    {
     "data": {
      "text/plain": [
       "product_id                         0\n",
       "product_category_name              0\n",
       "product_name_length                0\n",
       "product_description_length         0\n",
       "product_photos_qty               610\n",
       "product_weight_g                   0\n",
       "product_length_cm                  0\n",
       "product_height_cm                  0\n",
       "product_width_cm                   0\n",
       "product_category_name_english      0\n",
       "dtype: int64"
      ]
     },
     "execution_count": 67,
     "metadata": {},
     "output_type": "execute_result"
    }
   ],
   "source": [
    "products.isnull().sum() # checking null values after imputation"
   ]
  },
  {
   "cell_type": "code",
   "execution_count": 68,
   "id": "9e0603cc",
   "metadata": {},
   "outputs": [],
   "source": [
    "# Spelling mistake has resulted in null values still being present in product_photos_qty\n",
    "products[\"product_photos_qty\"] = products[\"product_photos_qty\"].fillna(0)"
   ]
  },
  {
   "cell_type": "code",
   "execution_count": 69,
   "id": "4d0a480b",
   "metadata": {},
   "outputs": [
    {
     "data": {
      "text/plain": [
       "product_id                       0\n",
       "product_category_name            0\n",
       "product_name_length              0\n",
       "product_description_length       0\n",
       "product_photos_qty               0\n",
       "product_weight_g                 0\n",
       "product_length_cm                0\n",
       "product_height_cm                0\n",
       "product_width_cm                 0\n",
       "product_category_name_english    0\n",
       "dtype: int64"
      ]
     },
     "execution_count": 69,
     "metadata": {},
     "output_type": "execute_result"
    }
   ],
   "source": [
    "products.isnull().sum()     #Checking null values"
   ]
  },
  {
   "cell_type": "code",
   "execution_count": 70,
   "id": "896d3ed6",
   "metadata": {},
   "outputs": [],
   "source": [
    "# The products table is clean with no null values"
   ]
  },
  {
   "cell_type": "code",
   "execution_count": 71,
   "id": "69694d4f",
   "metadata": {},
   "outputs": [
    {
     "data": {
      "text/html": [
       "<div>\n",
       "<style scoped>\n",
       "    .dataframe tbody tr th:only-of-type {\n",
       "        vertical-align: middle;\n",
       "    }\n",
       "\n",
       "    .dataframe tbody tr th {\n",
       "        vertical-align: top;\n",
       "    }\n",
       "\n",
       "    .dataframe thead th {\n",
       "        text-align: right;\n",
       "    }\n",
       "</style>\n",
       "<table border=\"1\" class=\"dataframe\">\n",
       "  <thead>\n",
       "    <tr style=\"text-align: right;\">\n",
       "      <th></th>\n",
       "      <th>product_id</th>\n",
       "      <th>product_category_name</th>\n",
       "      <th>product_name_length</th>\n",
       "      <th>product_description_length</th>\n",
       "      <th>product_photos_qty</th>\n",
       "      <th>product_weight_g</th>\n",
       "      <th>product_length_cm</th>\n",
       "      <th>product_height_cm</th>\n",
       "      <th>product_width_cm</th>\n",
       "      <th>product_category_name_english</th>\n",
       "    </tr>\n",
       "  </thead>\n",
       "  <tbody>\n",
       "    <tr>\n",
       "      <th>0</th>\n",
       "      <td>1e9e8ef04dbcff4541ed26657ea517e5</td>\n",
       "      <td>perfumaria</td>\n",
       "      <td>40</td>\n",
       "      <td>287.0</td>\n",
       "      <td>1.0</td>\n",
       "      <td>225.0</td>\n",
       "      <td>16.0</td>\n",
       "      <td>10.0</td>\n",
       "      <td>14.0</td>\n",
       "      <td>perfumery</td>\n",
       "    </tr>\n",
       "    <tr>\n",
       "      <th>1</th>\n",
       "      <td>3aa071139cb16b67ca9e5dea641aaa2f</td>\n",
       "      <td>artes</td>\n",
       "      <td>44</td>\n",
       "      <td>276.0</td>\n",
       "      <td>1.0</td>\n",
       "      <td>1000.0</td>\n",
       "      <td>30.0</td>\n",
       "      <td>18.0</td>\n",
       "      <td>20.0</td>\n",
       "      <td>art</td>\n",
       "    </tr>\n",
       "    <tr>\n",
       "      <th>2</th>\n",
       "      <td>96bd76ec8810374ed1b65e291975717f</td>\n",
       "      <td>esporte_lazer</td>\n",
       "      <td>46</td>\n",
       "      <td>250.0</td>\n",
       "      <td>1.0</td>\n",
       "      <td>154.0</td>\n",
       "      <td>18.0</td>\n",
       "      <td>9.0</td>\n",
       "      <td>15.0</td>\n",
       "      <td>sports_leisure</td>\n",
       "    </tr>\n",
       "    <tr>\n",
       "      <th>3</th>\n",
       "      <td>cef67bcfe19066a932b7673e239eb23d</td>\n",
       "      <td>bebes</td>\n",
       "      <td>27</td>\n",
       "      <td>261.0</td>\n",
       "      <td>1.0</td>\n",
       "      <td>371.0</td>\n",
       "      <td>26.0</td>\n",
       "      <td>4.0</td>\n",
       "      <td>26.0</td>\n",
       "      <td>baby</td>\n",
       "    </tr>\n",
       "    <tr>\n",
       "      <th>4</th>\n",
       "      <td>9dc1a7de274444849c219cff195d0b71</td>\n",
       "      <td>utilidades_domesticas</td>\n",
       "      <td>37</td>\n",
       "      <td>402.0</td>\n",
       "      <td>4.0</td>\n",
       "      <td>625.0</td>\n",
       "      <td>20.0</td>\n",
       "      <td>17.0</td>\n",
       "      <td>13.0</td>\n",
       "      <td>housewares</td>\n",
       "    </tr>\n",
       "  </tbody>\n",
       "</table>\n",
       "</div>"
      ],
      "text/plain": [
       "                         product_id  product_category_name  \\\n",
       "0  1e9e8ef04dbcff4541ed26657ea517e5             perfumaria   \n",
       "1  3aa071139cb16b67ca9e5dea641aaa2f                  artes   \n",
       "2  96bd76ec8810374ed1b65e291975717f          esporte_lazer   \n",
       "3  cef67bcfe19066a932b7673e239eb23d                  bebes   \n",
       "4  9dc1a7de274444849c219cff195d0b71  utilidades_domesticas   \n",
       "\n",
       "  product_name_length  product_description_length  product_photos_qty  \\\n",
       "0                  40                       287.0                 1.0   \n",
       "1                  44                       276.0                 1.0   \n",
       "2                  46                       250.0                 1.0   \n",
       "3                  27                       261.0                 1.0   \n",
       "4                  37                       402.0                 4.0   \n",
       "\n",
       "   product_weight_g  product_length_cm  product_height_cm  product_width_cm  \\\n",
       "0             225.0               16.0               10.0              14.0   \n",
       "1            1000.0               30.0               18.0              20.0   \n",
       "2             154.0               18.0                9.0              15.0   \n",
       "3             371.0               26.0                4.0              26.0   \n",
       "4             625.0               20.0               17.0              13.0   \n",
       "\n",
       "  product_category_name_english  \n",
       "0                     perfumery  \n",
       "1                           art  \n",
       "2                sports_leisure  \n",
       "3                          baby  \n",
       "4                    housewares  "
      ]
     },
     "execution_count": 71,
     "metadata": {},
     "output_type": "execute_result"
    }
   ],
   "source": [
    "products.head()     # General view"
   ]
  },
  {
   "cell_type": "code",
   "execution_count": 72,
   "id": "a21a951c",
   "metadata": {},
   "outputs": [],
   "source": [
    "# Normalize product_category_name column\n",
    "products[\"product_category_name\"] = (\n",
    "    products[\"product_category_name\"]\n",
    "    .str.lower()\n",
    "    .str.strip()\n",
    "    .str.replace(r\"\\s+\", \" \", regex=True)\n",
    ")\n",
    "\n",
    "# Normalize product_category_name_english column\n",
    "products[\"product_category_name_english\"] = (\n",
    "    products[\"product_category_name_english\"]\n",
    "    .str.lower()\n",
    "    .str.strip()\n",
    "    .str.replace(r\"\\s+\", \" \", regex=True)\n",
    ")"
   ]
  },
  {
   "cell_type": "code",
   "execution_count": 73,
   "id": "70495b5e",
   "metadata": {},
   "outputs": [
    {
     "name": "stdout",
     "output_type": "stream",
     "text": [
      "<class 'pandas.core.frame.DataFrame'>\n",
      "RangeIndex: 32951 entries, 0 to 32950\n",
      "Data columns (total 10 columns):\n",
      " #   Column                         Non-Null Count  Dtype  \n",
      "---  ------                         --------------  -----  \n",
      " 0   product_id                     32951 non-null  object \n",
      " 1   product_category_name          32951 non-null  object \n",
      " 2   product_name_length            32951 non-null  object \n",
      " 3   product_description_length     32951 non-null  float64\n",
      " 4   product_photos_qty             32951 non-null  float64\n",
      " 5   product_weight_g               32951 non-null  float64\n",
      " 6   product_length_cm              32951 non-null  float64\n",
      " 7   product_height_cm              32951 non-null  float64\n",
      " 8   product_width_cm               32951 non-null  float64\n",
      " 9   product_category_name_english  32951 non-null  object \n",
      "dtypes: float64(6), object(4)\n",
      "memory usage: 2.5+ MB\n"
     ]
    }
   ],
   "source": [
    "products.info()     # General observation"
   ]
  },
  {
   "cell_type": "markdown",
   "id": "29f10b56",
   "metadata": {},
   "source": [
    "### Analyzing Orders table"
   ]
  },
  {
   "cell_type": "code",
   "execution_count": 74,
   "id": "89902cbb",
   "metadata": {},
   "outputs": [
    {
     "data": {
      "text/html": [
       "<div>\n",
       "<style scoped>\n",
       "    .dataframe tbody tr th:only-of-type {\n",
       "        vertical-align: middle;\n",
       "    }\n",
       "\n",
       "    .dataframe tbody tr th {\n",
       "        vertical-align: top;\n",
       "    }\n",
       "\n",
       "    .dataframe thead th {\n",
       "        text-align: right;\n",
       "    }\n",
       "</style>\n",
       "<table border=\"1\" class=\"dataframe\">\n",
       "  <thead>\n",
       "    <tr style=\"text-align: right;\">\n",
       "      <th></th>\n",
       "      <th>order_id</th>\n",
       "      <th>customer_id</th>\n",
       "      <th>order_status</th>\n",
       "      <th>order_purchase_timestamp</th>\n",
       "      <th>order_approved_at</th>\n",
       "      <th>order_delivered_carrier_date</th>\n",
       "      <th>order_delivered_customer_date</th>\n",
       "      <th>order_estimated_delivery_date</th>\n",
       "    </tr>\n",
       "  </thead>\n",
       "  <tbody>\n",
       "    <tr>\n",
       "      <th>0</th>\n",
       "      <td>e481f51cbdc54678b7cc49136f2d6af7</td>\n",
       "      <td>9ef432eb6251297304e76186b10a928d</td>\n",
       "      <td>delivered</td>\n",
       "      <td>2017-10-02 10:56:33</td>\n",
       "      <td>2017-10-02 11:07:15</td>\n",
       "      <td>2017-10-04 19:55:00</td>\n",
       "      <td>2017-10-10 21:25:13</td>\n",
       "      <td>2017-10-18 00:00:00</td>\n",
       "    </tr>\n",
       "    <tr>\n",
       "      <th>1</th>\n",
       "      <td>53cdb2fc8bc7dce0b6741e2150273451</td>\n",
       "      <td>b0830fb4747a6c6d20dea0b8c802d7ef</td>\n",
       "      <td>delivered</td>\n",
       "      <td>2018-07-24 20:41:37</td>\n",
       "      <td>2018-07-26 03:24:27</td>\n",
       "      <td>2018-07-26 14:31:00</td>\n",
       "      <td>2018-08-07 15:27:45</td>\n",
       "      <td>2018-08-13 00:00:00</td>\n",
       "    </tr>\n",
       "    <tr>\n",
       "      <th>2</th>\n",
       "      <td>47770eb9100c2d0c44946d9cf07ec65d</td>\n",
       "      <td>41ce2a54c0b03bf3443c3d931a367089</td>\n",
       "      <td>delivered</td>\n",
       "      <td>2018-08-08 08:38:49</td>\n",
       "      <td>2018-08-08 08:55:23</td>\n",
       "      <td>2018-08-08 13:50:00</td>\n",
       "      <td>2018-08-17 18:06:29</td>\n",
       "      <td>2018-09-04 00:00:00</td>\n",
       "    </tr>\n",
       "    <tr>\n",
       "      <th>3</th>\n",
       "      <td>949d5b44dbf5de918fe9c16f97b45f8a</td>\n",
       "      <td>f88197465ea7920adcdbec7375364d82</td>\n",
       "      <td>delivered</td>\n",
       "      <td>2017-11-18 19:28:06</td>\n",
       "      <td>2017-11-18 19:45:59</td>\n",
       "      <td>2017-11-22 13:39:59</td>\n",
       "      <td>2017-12-02 00:28:42</td>\n",
       "      <td>2017-12-15 00:00:00</td>\n",
       "    </tr>\n",
       "    <tr>\n",
       "      <th>4</th>\n",
       "      <td>ad21c59c0840e6cb83a9ceb5573f8159</td>\n",
       "      <td>8ab97904e6daea8866dbdbc4fb7aad2c</td>\n",
       "      <td>delivered</td>\n",
       "      <td>2018-02-13 21:18:39</td>\n",
       "      <td>2018-02-13 22:20:29</td>\n",
       "      <td>2018-02-14 19:46:34</td>\n",
       "      <td>2018-02-16 18:17:02</td>\n",
       "      <td>2018-02-26 00:00:00</td>\n",
       "    </tr>\n",
       "  </tbody>\n",
       "</table>\n",
       "</div>"
      ],
      "text/plain": [
       "                           order_id                       customer_id  \\\n",
       "0  e481f51cbdc54678b7cc49136f2d6af7  9ef432eb6251297304e76186b10a928d   \n",
       "1  53cdb2fc8bc7dce0b6741e2150273451  b0830fb4747a6c6d20dea0b8c802d7ef   \n",
       "2  47770eb9100c2d0c44946d9cf07ec65d  41ce2a54c0b03bf3443c3d931a367089   \n",
       "3  949d5b44dbf5de918fe9c16f97b45f8a  f88197465ea7920adcdbec7375364d82   \n",
       "4  ad21c59c0840e6cb83a9ceb5573f8159  8ab97904e6daea8866dbdbc4fb7aad2c   \n",
       "\n",
       "  order_status order_purchase_timestamp    order_approved_at  \\\n",
       "0    delivered      2017-10-02 10:56:33  2017-10-02 11:07:15   \n",
       "1    delivered      2018-07-24 20:41:37  2018-07-26 03:24:27   \n",
       "2    delivered      2018-08-08 08:38:49  2018-08-08 08:55:23   \n",
       "3    delivered      2017-11-18 19:28:06  2017-11-18 19:45:59   \n",
       "4    delivered      2018-02-13 21:18:39  2018-02-13 22:20:29   \n",
       "\n",
       "  order_delivered_carrier_date order_delivered_customer_date  \\\n",
       "0          2017-10-04 19:55:00           2017-10-10 21:25:13   \n",
       "1          2018-07-26 14:31:00           2018-08-07 15:27:45   \n",
       "2          2018-08-08 13:50:00           2018-08-17 18:06:29   \n",
       "3          2017-11-22 13:39:59           2017-12-02 00:28:42   \n",
       "4          2018-02-14 19:46:34           2018-02-16 18:17:02   \n",
       "\n",
       "  order_estimated_delivery_date  \n",
       "0           2017-10-18 00:00:00  \n",
       "1           2018-08-13 00:00:00  \n",
       "2           2018-09-04 00:00:00  \n",
       "3           2017-12-15 00:00:00  \n",
       "4           2018-02-26 00:00:00  "
      ]
     },
     "execution_count": 74,
     "metadata": {},
     "output_type": "execute_result"
    }
   ],
   "source": [
    "orders.head()       # General view"
   ]
  },
  {
   "cell_type": "code",
   "execution_count": 75,
   "id": "660249dd",
   "metadata": {},
   "outputs": [
    {
     "name": "stdout",
     "output_type": "stream",
     "text": [
      "order_id : 99441\n",
      "customer_id : 99441\n",
      "order_status : 8\n",
      "order_purchase_timestamp : 98875\n",
      "order_approved_at : 90734\n",
      "order_delivered_carrier_date : 81019\n",
      "order_delivered_customer_date : 95665\n",
      "order_estimated_delivery_date : 459\n",
      "Shape: (99441, 8)\n"
     ]
    }
   ],
   "source": [
    "# Primary analysis\n",
    "for column in orders:\n",
    "    print(f\"{column} : {len(orders[column].unique())}\")\n",
    "print(\"Shape:\", orders.shape)"
   ]
  },
  {
   "cell_type": "code",
   "execution_count": 76,
   "id": "101fb8bf",
   "metadata": {},
   "outputs": [],
   "source": [
    "# order_id and customer_id are unique for each row"
   ]
  },
  {
   "cell_type": "code",
   "execution_count": 77,
   "id": "ad4d34ae",
   "metadata": {},
   "outputs": [
    {
     "name": "stdout",
     "output_type": "stream",
     "text": [
      "<class 'pandas.core.frame.DataFrame'>\n",
      "RangeIndex: 99441 entries, 0 to 99440\n",
      "Data columns (total 8 columns):\n",
      " #   Column                         Non-Null Count  Dtype \n",
      "---  ------                         --------------  ----- \n",
      " 0   order_id                       99441 non-null  object\n",
      " 1   customer_id                    99441 non-null  object\n",
      " 2   order_status                   99441 non-null  object\n",
      " 3   order_purchase_timestamp       99441 non-null  object\n",
      " 4   order_approved_at              99281 non-null  object\n",
      " 5   order_delivered_carrier_date   97658 non-null  object\n",
      " 6   order_delivered_customer_date  96476 non-null  object\n",
      " 7   order_estimated_delivery_date  99441 non-null  object\n",
      "dtypes: object(8)\n",
      "memory usage: 6.1+ MB\n"
     ]
    }
   ],
   "source": [
    "orders.info()"
   ]
  },
  {
   "cell_type": "code",
   "execution_count": 78,
   "id": "0b360023",
   "metadata": {},
   "outputs": [],
   "source": [
    "# order_approved_at, order_delivered_carrier_date and order_deliver_customer_date have null values"
   ]
  },
  {
   "cell_type": "code",
   "execution_count": 79,
   "id": "e9373029",
   "metadata": {},
   "outputs": [
    {
     "data": {
      "text/plain": [
       "Index(['order_id', 'customer_id', 'order_status', 'order_purchase_timestamp',\n",
       "       'order_approved_at', 'order_delivered_carrier_date',\n",
       "       'order_delivered_customer_date', 'order_estimated_delivery_date'],\n",
       "      dtype='object')"
      ]
     },
     "execution_count": 79,
     "metadata": {},
     "output_type": "execute_result"
    }
   ],
   "source": [
    "orders.columns      # columns in roders table"
   ]
  },
  {
   "cell_type": "code",
   "execution_count": 80,
   "id": "5443bd84",
   "metadata": {},
   "outputs": [
    {
     "name": "stderr",
     "output_type": "stream",
     "text": [
      "C:\\Users\\admin\\AppData\\Local\\Temp\\ipykernel_14704\\422517132.py:7: UserWarning: The argument 'infer_datetime_format' is deprecated and will be removed in a future version. A strict version of it is now the default, see https://pandas.pydata.org/pdeps/0004-consistent-to-datetime-parsing.html. You can safely remove this argument.\n",
      "  orders[col] = pd.to_datetime(\n",
      "C:\\Users\\admin\\AppData\\Local\\Temp\\ipykernel_14704\\422517132.py:7: UserWarning: The argument 'infer_datetime_format' is deprecated and will be removed in a future version. A strict version of it is now the default, see https://pandas.pydata.org/pdeps/0004-consistent-to-datetime-parsing.html. You can safely remove this argument.\n",
      "  orders[col] = pd.to_datetime(\n",
      "C:\\Users\\admin\\AppData\\Local\\Temp\\ipykernel_14704\\422517132.py:7: UserWarning: The argument 'infer_datetime_format' is deprecated and will be removed in a future version. A strict version of it is now the default, see https://pandas.pydata.org/pdeps/0004-consistent-to-datetime-parsing.html. You can safely remove this argument.\n",
      "  orders[col] = pd.to_datetime(\n",
      "C:\\Users\\admin\\AppData\\Local\\Temp\\ipykernel_14704\\422517132.py:7: UserWarning: The argument 'infer_datetime_format' is deprecated and will be removed in a future version. A strict version of it is now the default, see https://pandas.pydata.org/pdeps/0004-consistent-to-datetime-parsing.html. You can safely remove this argument.\n",
      "  orders[col] = pd.to_datetime(\n",
      "C:\\Users\\admin\\AppData\\Local\\Temp\\ipykernel_14704\\422517132.py:7: UserWarning: The argument 'infer_datetime_format' is deprecated and will be removed in a future version. A strict version of it is now the default, see https://pandas.pydata.org/pdeps/0004-consistent-to-datetime-parsing.html. You can safely remove this argument.\n",
      "  orders[col] = pd.to_datetime(\n"
     ]
    }
   ],
   "source": [
    "# Converting date columns into datetime format\n",
    "date_col = ['order_purchase_timestamp',\n",
    "       'order_approved_at', 'order_delivered_carrier_date',\n",
    "       'order_delivered_customer_date', 'order_estimated_delivery_date']\n",
    "\n",
    "for col in date_col:\n",
    "    orders[col] = pd.to_datetime(\n",
    "        orders[col],\n",
    "        errors = \"coerce\",\n",
    "        infer_datetime_format = \"True\"\n",
    ")"
   ]
  },
  {
   "cell_type": "code",
   "execution_count": 81,
   "id": "719f325f",
   "metadata": {},
   "outputs": [
    {
     "data": {
      "text/plain": [
       "order_id                                 object\n",
       "customer_id                              object\n",
       "order_status                             object\n",
       "order_purchase_timestamp         datetime64[ns]\n",
       "order_approved_at                datetime64[ns]\n",
       "order_delivered_carrier_date     datetime64[ns]\n",
       "order_delivered_customer_date    datetime64[ns]\n",
       "order_estimated_delivery_date    datetime64[ns]\n",
       "dtype: object"
      ]
     },
     "execution_count": 81,
     "metadata": {},
     "output_type": "execute_result"
    }
   ],
   "source": [
    "orders.dtypes       # Checking data types"
   ]
  },
  {
   "cell_type": "code",
   "execution_count": 82,
   "id": "f7f7a5a7",
   "metadata": {},
   "outputs": [
    {
     "data": {
      "text/html": [
       "<div>\n",
       "<style scoped>\n",
       "    .dataframe tbody tr th:only-of-type {\n",
       "        vertical-align: middle;\n",
       "    }\n",
       "\n",
       "    .dataframe tbody tr th {\n",
       "        vertical-align: top;\n",
       "    }\n",
       "\n",
       "    .dataframe thead th {\n",
       "        text-align: right;\n",
       "    }\n",
       "</style>\n",
       "<table border=\"1\" class=\"dataframe\">\n",
       "  <thead>\n",
       "    <tr style=\"text-align: right;\">\n",
       "      <th></th>\n",
       "      <th>order_id</th>\n",
       "      <th>customer_id</th>\n",
       "      <th>order_status</th>\n",
       "      <th>order_purchase_timestamp</th>\n",
       "      <th>order_approved_at</th>\n",
       "      <th>order_delivered_carrier_date</th>\n",
       "      <th>order_delivered_customer_date</th>\n",
       "      <th>order_estimated_delivery_date</th>\n",
       "    </tr>\n",
       "  </thead>\n",
       "  <tbody>\n",
       "    <tr>\n",
       "      <th>0</th>\n",
       "      <td>e481f51cbdc54678b7cc49136f2d6af7</td>\n",
       "      <td>9ef432eb6251297304e76186b10a928d</td>\n",
       "      <td>delivered</td>\n",
       "      <td>2017-10-02 10:56:33</td>\n",
       "      <td>2017-10-02 11:07:15</td>\n",
       "      <td>2017-10-04 19:55:00</td>\n",
       "      <td>2017-10-10 21:25:13</td>\n",
       "      <td>2017-10-18</td>\n",
       "    </tr>\n",
       "    <tr>\n",
       "      <th>1</th>\n",
       "      <td>53cdb2fc8bc7dce0b6741e2150273451</td>\n",
       "      <td>b0830fb4747a6c6d20dea0b8c802d7ef</td>\n",
       "      <td>delivered</td>\n",
       "      <td>2018-07-24 20:41:37</td>\n",
       "      <td>2018-07-26 03:24:27</td>\n",
       "      <td>2018-07-26 14:31:00</td>\n",
       "      <td>2018-08-07 15:27:45</td>\n",
       "      <td>2018-08-13</td>\n",
       "    </tr>\n",
       "    <tr>\n",
       "      <th>2</th>\n",
       "      <td>47770eb9100c2d0c44946d9cf07ec65d</td>\n",
       "      <td>41ce2a54c0b03bf3443c3d931a367089</td>\n",
       "      <td>delivered</td>\n",
       "      <td>2018-08-08 08:38:49</td>\n",
       "      <td>2018-08-08 08:55:23</td>\n",
       "      <td>2018-08-08 13:50:00</td>\n",
       "      <td>2018-08-17 18:06:29</td>\n",
       "      <td>2018-09-04</td>\n",
       "    </tr>\n",
       "    <tr>\n",
       "      <th>3</th>\n",
       "      <td>949d5b44dbf5de918fe9c16f97b45f8a</td>\n",
       "      <td>f88197465ea7920adcdbec7375364d82</td>\n",
       "      <td>delivered</td>\n",
       "      <td>2017-11-18 19:28:06</td>\n",
       "      <td>2017-11-18 19:45:59</td>\n",
       "      <td>2017-11-22 13:39:59</td>\n",
       "      <td>2017-12-02 00:28:42</td>\n",
       "      <td>2017-12-15</td>\n",
       "    </tr>\n",
       "    <tr>\n",
       "      <th>4</th>\n",
       "      <td>ad21c59c0840e6cb83a9ceb5573f8159</td>\n",
       "      <td>8ab97904e6daea8866dbdbc4fb7aad2c</td>\n",
       "      <td>delivered</td>\n",
       "      <td>2018-02-13 21:18:39</td>\n",
       "      <td>2018-02-13 22:20:29</td>\n",
       "      <td>2018-02-14 19:46:34</td>\n",
       "      <td>2018-02-16 18:17:02</td>\n",
       "      <td>2018-02-26</td>\n",
       "    </tr>\n",
       "  </tbody>\n",
       "</table>\n",
       "</div>"
      ],
      "text/plain": [
       "                           order_id                       customer_id  \\\n",
       "0  e481f51cbdc54678b7cc49136f2d6af7  9ef432eb6251297304e76186b10a928d   \n",
       "1  53cdb2fc8bc7dce0b6741e2150273451  b0830fb4747a6c6d20dea0b8c802d7ef   \n",
       "2  47770eb9100c2d0c44946d9cf07ec65d  41ce2a54c0b03bf3443c3d931a367089   \n",
       "3  949d5b44dbf5de918fe9c16f97b45f8a  f88197465ea7920adcdbec7375364d82   \n",
       "4  ad21c59c0840e6cb83a9ceb5573f8159  8ab97904e6daea8866dbdbc4fb7aad2c   \n",
       "\n",
       "  order_status order_purchase_timestamp   order_approved_at  \\\n",
       "0    delivered      2017-10-02 10:56:33 2017-10-02 11:07:15   \n",
       "1    delivered      2018-07-24 20:41:37 2018-07-26 03:24:27   \n",
       "2    delivered      2018-08-08 08:38:49 2018-08-08 08:55:23   \n",
       "3    delivered      2017-11-18 19:28:06 2017-11-18 19:45:59   \n",
       "4    delivered      2018-02-13 21:18:39 2018-02-13 22:20:29   \n",
       "\n",
       "  order_delivered_carrier_date order_delivered_customer_date  \\\n",
       "0          2017-10-04 19:55:00           2017-10-10 21:25:13   \n",
       "1          2018-07-26 14:31:00           2018-08-07 15:27:45   \n",
       "2          2018-08-08 13:50:00           2018-08-17 18:06:29   \n",
       "3          2017-11-22 13:39:59           2017-12-02 00:28:42   \n",
       "4          2018-02-14 19:46:34           2018-02-16 18:17:02   \n",
       "\n",
       "  order_estimated_delivery_date  \n",
       "0                    2017-10-18  \n",
       "1                    2018-08-13  \n",
       "2                    2018-09-04  \n",
       "3                    2017-12-15  \n",
       "4                    2018-02-26  "
      ]
     },
     "execution_count": 82,
     "metadata": {},
     "output_type": "execute_result"
    }
   ],
   "source": [
    "orders.head()       # General view"
   ]
  },
  {
   "cell_type": "code",
   "execution_count": 83,
   "id": "e1c5350b",
   "metadata": {},
   "outputs": [
    {
     "data": {
      "text/plain": [
       "array(['delivered', 'invoiced', 'shipped', 'processing', 'unavailable',\n",
       "       'canceled', 'created', 'approved'], dtype=object)"
      ]
     },
     "execution_count": 83,
     "metadata": {},
     "output_type": "execute_result"
    }
   ],
   "source": [
    "orders[\"order_status\"].unique()     # Checking unique values"
   ]
  },
  {
   "cell_type": "code",
   "execution_count": 84,
   "id": "2082fd21",
   "metadata": {},
   "outputs": [],
   "source": [
    "# Normalizing order_id column\n",
    "orders[\"order_id\"] = (\n",
    "    orders[\"order_id\"]\n",
    "    .str.lower()\n",
    "    .str.strip()\n",
    "    .str.replace(r\"\\s+\", \"\", regex=True)\n",
    ")\n",
    "\n",
    "# Normalizing customer_id column\n",
    "orders[\"customer_id\"] = (\n",
    "    orders[\"customer_id\"]\n",
    "    .str.lower()\n",
    "    .str.strip()\n",
    "    .str.replace(r\"\\s+\", \"\", regex=True)\n",
    ")\n",
    "\n",
    "# Normalizing order_status column\n",
    "orders[\"order_status\"] = (\n",
    "    orders[\"order_status\"]\n",
    "    .str.lower()\n",
    "    .str.strip()\n",
    "    .str.replace(r\"\\s+\", \"\", regex=True)\n",
    ")"
   ]
  },
  {
   "cell_type": "code",
   "execution_count": 85,
   "id": "df831e88",
   "metadata": {},
   "outputs": [
    {
     "data": {
      "text/plain": [
       "order_id                            0\n",
       "customer_id                         0\n",
       "order_status                        0\n",
       "order_purchase_timestamp            0\n",
       "order_approved_at                 160\n",
       "order_delivered_carrier_date     1783\n",
       "order_delivered_customer_date    2965\n",
       "order_estimated_delivery_date       0\n",
       "dtype: int64"
      ]
     },
     "execution_count": 85,
     "metadata": {},
     "output_type": "execute_result"
    }
   ],
   "source": [
    "orders.isnull().sum()       # Checking null values"
   ]
  },
  {
   "cell_type": "code",
   "execution_count": 86,
   "id": "aee1baa8",
   "metadata": {},
   "outputs": [
    {
     "data": {
      "text/html": [
       "<div>\n",
       "<style scoped>\n",
       "    .dataframe tbody tr th:only-of-type {\n",
       "        vertical-align: middle;\n",
       "    }\n",
       "\n",
       "    .dataframe tbody tr th {\n",
       "        vertical-align: top;\n",
       "    }\n",
       "\n",
       "    .dataframe thead th {\n",
       "        text-align: right;\n",
       "    }\n",
       "</style>\n",
       "<table border=\"1\" class=\"dataframe\">\n",
       "  <thead>\n",
       "    <tr style=\"text-align: right;\">\n",
       "      <th></th>\n",
       "      <th>order_id</th>\n",
       "      <th>customer_id</th>\n",
       "      <th>order_status</th>\n",
       "      <th>order_purchase_timestamp</th>\n",
       "      <th>order_approved_at</th>\n",
       "      <th>order_delivered_carrier_date</th>\n",
       "      <th>order_delivered_customer_date</th>\n",
       "      <th>order_estimated_delivery_date</th>\n",
       "    </tr>\n",
       "  </thead>\n",
       "  <tbody>\n",
       "    <tr>\n",
       "      <th>6</th>\n",
       "      <td>136cce7faa42fdb2cefd53fdc79a6098</td>\n",
       "      <td>ed0271e0b7da060a393796590e7b737a</td>\n",
       "      <td>invoiced</td>\n",
       "      <td>2017-04-11 12:22:08</td>\n",
       "      <td>2017-04-13 13:25:17</td>\n",
       "      <td>NaT</td>\n",
       "      <td>NaT</td>\n",
       "      <td>2017-05-09</td>\n",
       "    </tr>\n",
       "    <tr>\n",
       "      <th>44</th>\n",
       "      <td>ee64d42b8cf066f35eac1cf57de1aa85</td>\n",
       "      <td>caded193e8e47b8362864762a83db3c5</td>\n",
       "      <td>shipped</td>\n",
       "      <td>2018-06-04 16:44:48</td>\n",
       "      <td>2018-06-05 04:31:18</td>\n",
       "      <td>2018-06-05 14:32:00</td>\n",
       "      <td>NaT</td>\n",
       "      <td>2018-06-28</td>\n",
       "    </tr>\n",
       "    <tr>\n",
       "      <th>103</th>\n",
       "      <td>0760a852e4e9d89eb77bf631eaaf1c84</td>\n",
       "      <td>d2a79636084590b7465af8ab374a8cf5</td>\n",
       "      <td>invoiced</td>\n",
       "      <td>2018-08-03 17:44:42</td>\n",
       "      <td>2018-08-07 06:15:14</td>\n",
       "      <td>NaT</td>\n",
       "      <td>NaT</td>\n",
       "      <td>2018-08-21</td>\n",
       "    </tr>\n",
       "    <tr>\n",
       "      <th>128</th>\n",
       "      <td>15bed8e2fec7fdbadb186b57c46c92f2</td>\n",
       "      <td>f3f0e613e0bdb9c7cee75504f0f90679</td>\n",
       "      <td>processing</td>\n",
       "      <td>2017-09-03 14:22:03</td>\n",
       "      <td>2017-09-03 14:30:09</td>\n",
       "      <td>NaT</td>\n",
       "      <td>NaT</td>\n",
       "      <td>2017-10-03</td>\n",
       "    </tr>\n",
       "    <tr>\n",
       "      <th>154</th>\n",
       "      <td>6942b8da583c2f9957e990d028607019</td>\n",
       "      <td>52006a9383bf149a4fb24226b173106f</td>\n",
       "      <td>shipped</td>\n",
       "      <td>2018-01-10 11:33:07</td>\n",
       "      <td>2018-01-11 02:32:30</td>\n",
       "      <td>2018-01-11 19:39:23</td>\n",
       "      <td>NaT</td>\n",
       "      <td>2018-02-07</td>\n",
       "    </tr>\n",
       "    <tr>\n",
       "      <th>...</th>\n",
       "      <td>...</td>\n",
       "      <td>...</td>\n",
       "      <td>...</td>\n",
       "      <td>...</td>\n",
       "      <td>...</td>\n",
       "      <td>...</td>\n",
       "      <td>...</td>\n",
       "      <td>...</td>\n",
       "    </tr>\n",
       "    <tr>\n",
       "      <th>99283</th>\n",
       "      <td>3a3cddda5a7c27851bd96c3313412840</td>\n",
       "      <td>0b0d6095c5555fe083844281f6b093bb</td>\n",
       "      <td>canceled</td>\n",
       "      <td>2018-08-31 16:13:44</td>\n",
       "      <td>NaT</td>\n",
       "      <td>NaT</td>\n",
       "      <td>NaT</td>\n",
       "      <td>2018-10-01</td>\n",
       "    </tr>\n",
       "    <tr>\n",
       "      <th>99313</th>\n",
       "      <td>e9e64a17afa9653aacf2616d94c005b8</td>\n",
       "      <td>b4cd0522e632e481f8eaf766a2646e86</td>\n",
       "      <td>processing</td>\n",
       "      <td>2018-01-05 23:07:24</td>\n",
       "      <td>2018-01-09 07:18:05</td>\n",
       "      <td>NaT</td>\n",
       "      <td>NaT</td>\n",
       "      <td>2018-02-06</td>\n",
       "    </tr>\n",
       "    <tr>\n",
       "      <th>99347</th>\n",
       "      <td>a89abace0dcc01eeb267a9660b5ac126</td>\n",
       "      <td>2f0524a7b1b3845a1a57fcf3910c4333</td>\n",
       "      <td>canceled</td>\n",
       "      <td>2018-09-06 18:45:47</td>\n",
       "      <td>NaT</td>\n",
       "      <td>NaT</td>\n",
       "      <td>NaT</td>\n",
       "      <td>2018-09-27</td>\n",
       "    </tr>\n",
       "    <tr>\n",
       "      <th>99348</th>\n",
       "      <td>a69ba794cc7deb415c3e15a0a3877e69</td>\n",
       "      <td>726f0894b5becdf952ea537d5266e543</td>\n",
       "      <td>unavailable</td>\n",
       "      <td>2017-08-23 16:28:04</td>\n",
       "      <td>2017-08-28 15:44:47</td>\n",
       "      <td>NaT</td>\n",
       "      <td>NaT</td>\n",
       "      <td>2017-09-15</td>\n",
       "    </tr>\n",
       "    <tr>\n",
       "      <th>99415</th>\n",
       "      <td>5fabc81b6322c8443648e1b21a6fef21</td>\n",
       "      <td>32c9df889d41b0ee8309a5efb6855dcb</td>\n",
       "      <td>unavailable</td>\n",
       "      <td>2017-10-10 10:50:03</td>\n",
       "      <td>2017-10-14 18:35:57</td>\n",
       "      <td>NaT</td>\n",
       "      <td>NaT</td>\n",
       "      <td>2017-10-23</td>\n",
       "    </tr>\n",
       "  </tbody>\n",
       "</table>\n",
       "<p>2980 rows × 8 columns</p>\n",
       "</div>"
      ],
      "text/plain": [
       "                               order_id                       customer_id  \\\n",
       "6      136cce7faa42fdb2cefd53fdc79a6098  ed0271e0b7da060a393796590e7b737a   \n",
       "44     ee64d42b8cf066f35eac1cf57de1aa85  caded193e8e47b8362864762a83db3c5   \n",
       "103    0760a852e4e9d89eb77bf631eaaf1c84  d2a79636084590b7465af8ab374a8cf5   \n",
       "128    15bed8e2fec7fdbadb186b57c46c92f2  f3f0e613e0bdb9c7cee75504f0f90679   \n",
       "154    6942b8da583c2f9957e990d028607019  52006a9383bf149a4fb24226b173106f   \n",
       "...                                 ...                               ...   \n",
       "99283  3a3cddda5a7c27851bd96c3313412840  0b0d6095c5555fe083844281f6b093bb   \n",
       "99313  e9e64a17afa9653aacf2616d94c005b8  b4cd0522e632e481f8eaf766a2646e86   \n",
       "99347  a89abace0dcc01eeb267a9660b5ac126  2f0524a7b1b3845a1a57fcf3910c4333   \n",
       "99348  a69ba794cc7deb415c3e15a0a3877e69  726f0894b5becdf952ea537d5266e543   \n",
       "99415  5fabc81b6322c8443648e1b21a6fef21  32c9df889d41b0ee8309a5efb6855dcb   \n",
       "\n",
       "      order_status order_purchase_timestamp   order_approved_at  \\\n",
       "6         invoiced      2017-04-11 12:22:08 2017-04-13 13:25:17   \n",
       "44         shipped      2018-06-04 16:44:48 2018-06-05 04:31:18   \n",
       "103       invoiced      2018-08-03 17:44:42 2018-08-07 06:15:14   \n",
       "128     processing      2017-09-03 14:22:03 2017-09-03 14:30:09   \n",
       "154        shipped      2018-01-10 11:33:07 2018-01-11 02:32:30   \n",
       "...            ...                      ...                 ...   \n",
       "99283     canceled      2018-08-31 16:13:44                 NaT   \n",
       "99313   processing      2018-01-05 23:07:24 2018-01-09 07:18:05   \n",
       "99347     canceled      2018-09-06 18:45:47                 NaT   \n",
       "99348  unavailable      2017-08-23 16:28:04 2017-08-28 15:44:47   \n",
       "99415  unavailable      2017-10-10 10:50:03 2017-10-14 18:35:57   \n",
       "\n",
       "      order_delivered_carrier_date order_delivered_customer_date  \\\n",
       "6                              NaT                           NaT   \n",
       "44             2018-06-05 14:32:00                           NaT   \n",
       "103                            NaT                           NaT   \n",
       "128                            NaT                           NaT   \n",
       "154            2018-01-11 19:39:23                           NaT   \n",
       "...                            ...                           ...   \n",
       "99283                          NaT                           NaT   \n",
       "99313                          NaT                           NaT   \n",
       "99347                          NaT                           NaT   \n",
       "99348                          NaT                           NaT   \n",
       "99415                          NaT                           NaT   \n",
       "\n",
       "      order_estimated_delivery_date  \n",
       "6                        2017-05-09  \n",
       "44                       2018-06-28  \n",
       "103                      2018-08-21  \n",
       "128                      2017-10-03  \n",
       "154                      2018-02-07  \n",
       "...                             ...  \n",
       "99283                    2018-10-01  \n",
       "99313                    2018-02-06  \n",
       "99347                    2018-09-27  \n",
       "99348                    2017-09-15  \n",
       "99415                    2017-10-23  \n",
       "\n",
       "[2980 rows x 8 columns]"
      ]
     },
     "execution_count": 86,
     "metadata": {},
     "output_type": "execute_result"
    }
   ],
   "source": [
    "# Analyzing null values\n",
    "orders[\n",
    "    (orders[\"order_approved_at\"].isna()) |\n",
    "    (orders[\"order_delivered_carrier_date\"].isna()) |\n",
    "    (orders[\"order_delivered_customer_date\"].isna())\n",
    "]"
   ]
  },
  {
   "cell_type": "code",
   "execution_count": 87,
   "id": "16a1217b",
   "metadata": {},
   "outputs": [],
   "source": [
    "# Calculating time difference between order_purchase_timestamp and order_approved_at\n",
    "mask = orders[\"order_approved_at\"].notna()\n",
    "time_diff = (\n",
    "    orders.loc[mask, \"order_approved_at\"]\n",
    "    - orders.loc[mask, \"order_purchase_timestamp\"]\n",
    ") "
   ]
  },
  {
   "cell_type": "code",
   "execution_count": 88,
   "id": "8f7c9082",
   "metadata": {},
   "outputs": [
    {
     "data": {
      "text/plain": [
       "Timedelta('0 days 00:20:36')"
      ]
     },
     "execution_count": 88,
     "metadata": {},
     "output_type": "execute_result"
    }
   ],
   "source": [
    "# Calculating the median time difference between order_purchase_time and order_approved_at\n",
    "median_time_diff = time_diff.median()\n",
    "median_time_diff"
   ]
  },
  {
   "cell_type": "code",
   "execution_count": 89,
   "id": "49939ec3",
   "metadata": {},
   "outputs": [],
   "source": [
    "# Imputing null values for order_approved_at\n",
    "orders[\"order_approved_at\"] = orders[\"order_approved_at\"].fillna(orders[\"order_purchase_timestamp\"] + median_time_diff)"
   ]
  },
  {
   "cell_type": "code",
   "execution_count": 90,
   "id": "8db20600",
   "metadata": {},
   "outputs": [
    {
     "data": {
      "text/plain": [
       "0"
      ]
     },
     "execution_count": 90,
     "metadata": {},
     "output_type": "execute_result"
    }
   ],
   "source": [
    "orders[\"order_approved_at\"].isnull().sum()  # Sanity check for null values"
   ]
  },
  {
   "cell_type": "code",
   "execution_count": 91,
   "id": "0c2dec98",
   "metadata": {},
   "outputs": [],
   "source": [
    "# No null values remain in order_approved_at column"
   ]
  },
  {
   "cell_type": "code",
   "execution_count": 92,
   "id": "28977027",
   "metadata": {},
   "outputs": [],
   "source": [
    "# Similarly, we will impute the null values in order_delivered_carrier_date and order_delivered_customer_date"
   ]
  },
  {
   "cell_type": "code",
   "execution_count": 93,
   "id": "90859f96",
   "metadata": {},
   "outputs": [],
   "source": [
    "# Imputing null values for order_delivered_carrier_date column\n",
    "mask_carrier = orders[\"order_delivered_carrier_date\"].notna()\n",
    "time_diff_carrier = (\n",
    "    orders.loc[mask_carrier, \"order_delivered_carrier_date\"] -\n",
    "    orders.loc[mask_carrier, \"order_purchase_timestamp\"]\n",
    ")\n",
    "\n",
    "median_time_diff_carrier = time_diff_carrier.median()\n",
    "\n",
    "orders[\"order_delivered_carrier_date\"] = orders[\"order_delivered_carrier_date\"].fillna(orders[\"order_purchase_timestamp\"] + median_time_diff_carrier)\n",
    "\n",
    "# Imputing null values for order_delivered_customer_date column\n",
    "mask_customer = orders[\"order_delivered_customer_date\"].notna()\n",
    "time_diff_customer = (\n",
    "    orders.loc[mask_customer, \"order_delivered_customer_date\"] -\n",
    "    orders.loc[mask_customer, \"order_purchase_timestamp\"]\n",
    ")\n",
    "\n",
    "median_time_diff_customer = time_diff_customer.median()\n",
    "\n",
    "orders[\"order_delivered_customer_date\"] = orders[\"order_delivered_customer_date\"].fillna(orders[\"order_purchase_timestamp\"] + median_time_diff_customer)"
   ]
  },
  {
   "cell_type": "code",
   "execution_count": 94,
   "id": "3572f873",
   "metadata": {},
   "outputs": [
    {
     "data": {
      "text/plain": [
       "order_id                         0\n",
       "customer_id                      0\n",
       "order_status                     0\n",
       "order_purchase_timestamp         0\n",
       "order_approved_at                0\n",
       "order_delivered_carrier_date     0\n",
       "order_delivered_customer_date    0\n",
       "order_estimated_delivery_date    0\n",
       "dtype: int64"
      ]
     },
     "execution_count": 94,
     "metadata": {},
     "output_type": "execute_result"
    }
   ],
   "source": [
    "orders.isnull().sum()       # Sanity check for null values"
   ]
  },
  {
   "cell_type": "code",
   "execution_count": 95,
   "id": "031833d3",
   "metadata": {},
   "outputs": [],
   "source": [
    "# No null values present in Orders table"
   ]
  },
  {
   "cell_type": "code",
   "execution_count": 96,
   "id": "75f7f37f",
   "metadata": {},
   "outputs": [
    {
     "name": "stdout",
     "output_type": "stream",
     "text": [
      "<class 'pandas.core.frame.DataFrame'>\n",
      "RangeIndex: 99441 entries, 0 to 99440\n",
      "Data columns (total 8 columns):\n",
      " #   Column                         Non-Null Count  Dtype         \n",
      "---  ------                         --------------  -----         \n",
      " 0   order_id                       99441 non-null  object        \n",
      " 1   customer_id                    99441 non-null  object        \n",
      " 2   order_status                   99441 non-null  object        \n",
      " 3   order_purchase_timestamp       99441 non-null  datetime64[ns]\n",
      " 4   order_approved_at              99441 non-null  datetime64[ns]\n",
      " 5   order_delivered_carrier_date   99441 non-null  datetime64[ns]\n",
      " 6   order_delivered_customer_date  99441 non-null  datetime64[ns]\n",
      " 7   order_estimated_delivery_date  99441 non-null  datetime64[ns]\n",
      "dtypes: datetime64[ns](5), object(3)\n",
      "memory usage: 6.1+ MB\n"
     ]
    }
   ],
   "source": [
    "orders.info()       # General observation"
   ]
  },
  {
   "cell_type": "markdown",
   "id": "f8aea054",
   "metadata": {},
   "source": [
    "### Analyzing orders_reviews table"
   ]
  },
  {
   "cell_type": "code",
   "execution_count": 97,
   "id": "8b7d9f90",
   "metadata": {},
   "outputs": [
    {
     "data": {
      "text/html": [
       "<div>\n",
       "<style scoped>\n",
       "    .dataframe tbody tr th:only-of-type {\n",
       "        vertical-align: middle;\n",
       "    }\n",
       "\n",
       "    .dataframe tbody tr th {\n",
       "        vertical-align: top;\n",
       "    }\n",
       "\n",
       "    .dataframe thead th {\n",
       "        text-align: right;\n",
       "    }\n",
       "</style>\n",
       "<table border=\"1\" class=\"dataframe\">\n",
       "  <thead>\n",
       "    <tr style=\"text-align: right;\">\n",
       "      <th></th>\n",
       "      <th>review_id</th>\n",
       "      <th>order_id</th>\n",
       "      <th>review_score</th>\n",
       "      <th>review_comment_title</th>\n",
       "      <th>review_comment_message</th>\n",
       "      <th>review_creation_date</th>\n",
       "      <th>review_answer_timestamp</th>\n",
       "    </tr>\n",
       "  </thead>\n",
       "  <tbody>\n",
       "    <tr>\n",
       "      <th>0</th>\n",
       "      <td>7bc2406110b926393aa56f80a40eba40</td>\n",
       "      <td>73fc7af87114b39712e6da79b0a377eb</td>\n",
       "      <td>4</td>\n",
       "      <td>None</td>\n",
       "      <td>None</td>\n",
       "      <td>2018-01-18 00:00:00</td>\n",
       "      <td>2018-01-18 21:46:59</td>\n",
       "    </tr>\n",
       "    <tr>\n",
       "      <th>1</th>\n",
       "      <td>80e641a11e56f04c1ad469d5645fdfde</td>\n",
       "      <td>a548910a1c6147796b98fdf73dbeba33</td>\n",
       "      <td>5</td>\n",
       "      <td>None</td>\n",
       "      <td>None</td>\n",
       "      <td>2018-03-10 00:00:00</td>\n",
       "      <td>2018-03-11 03:05:13</td>\n",
       "    </tr>\n",
       "    <tr>\n",
       "      <th>2</th>\n",
       "      <td>228ce5500dc1d8e020d8d1322874b6f0</td>\n",
       "      <td>f9e4b658b201a9f2ecdecbb34bed034b</td>\n",
       "      <td>5</td>\n",
       "      <td>None</td>\n",
       "      <td>None</td>\n",
       "      <td>2018-02-17 00:00:00</td>\n",
       "      <td>2018-02-18 14:36:24</td>\n",
       "    </tr>\n",
       "    <tr>\n",
       "      <th>3</th>\n",
       "      <td>e64fb393e7b32834bb789ff8bb30750e</td>\n",
       "      <td>658677c97b385a9be170737859d3511b</td>\n",
       "      <td>5</td>\n",
       "      <td>None</td>\n",
       "      <td>Recebi bem antes do prazo estipulado.</td>\n",
       "      <td>2017-04-21 00:00:00</td>\n",
       "      <td>2017-04-21 22:02:06</td>\n",
       "    </tr>\n",
       "    <tr>\n",
       "      <th>4</th>\n",
       "      <td>f7c4243c7fe1938f181bec41a392bdeb</td>\n",
       "      <td>8e6bfb81e283fa7e4f11123a3fb894f1</td>\n",
       "      <td>5</td>\n",
       "      <td>None</td>\n",
       "      <td>Parabéns lojas lannister adorei comprar pela I...</td>\n",
       "      <td>2018-03-01 00:00:00</td>\n",
       "      <td>2018-03-02 10:26:53</td>\n",
       "    </tr>\n",
       "  </tbody>\n",
       "</table>\n",
       "</div>"
      ],
      "text/plain": [
       "                          review_id                          order_id  \\\n",
       "0  7bc2406110b926393aa56f80a40eba40  73fc7af87114b39712e6da79b0a377eb   \n",
       "1  80e641a11e56f04c1ad469d5645fdfde  a548910a1c6147796b98fdf73dbeba33   \n",
       "2  228ce5500dc1d8e020d8d1322874b6f0  f9e4b658b201a9f2ecdecbb34bed034b   \n",
       "3  e64fb393e7b32834bb789ff8bb30750e  658677c97b385a9be170737859d3511b   \n",
       "4  f7c4243c7fe1938f181bec41a392bdeb  8e6bfb81e283fa7e4f11123a3fb894f1   \n",
       "\n",
       "  review_score review_comment_title  \\\n",
       "0            4                 None   \n",
       "1            5                 None   \n",
       "2            5                 None   \n",
       "3            5                 None   \n",
       "4            5                 None   \n",
       "\n",
       "                              review_comment_message review_creation_date  \\\n",
       "0                                               None  2018-01-18 00:00:00   \n",
       "1                                               None  2018-03-10 00:00:00   \n",
       "2                                               None  2018-02-17 00:00:00   \n",
       "3              Recebi bem antes do prazo estipulado.  2017-04-21 00:00:00   \n",
       "4  Parabéns lojas lannister adorei comprar pela I...  2018-03-01 00:00:00   \n",
       "\n",
       "  review_answer_timestamp  \n",
       "0     2018-01-18 21:46:59  \n",
       "1     2018-03-11 03:05:13  \n",
       "2     2018-02-18 14:36:24  \n",
       "3     2017-04-21 22:02:06  \n",
       "4     2018-03-02 10:26:53  "
      ]
     },
     "execution_count": 97,
     "metadata": {},
     "output_type": "execute_result"
    }
   ],
   "source": [
    "order_reviews.head()        # General view"
   ]
  },
  {
   "cell_type": "code",
   "execution_count": 98,
   "id": "5ca07e0c",
   "metadata": {},
   "outputs": [
    {
     "name": "stdout",
     "output_type": "stream",
     "text": [
      "<class 'pandas.core.frame.DataFrame'>\n",
      "RangeIndex: 99224 entries, 0 to 99223\n",
      "Data columns (total 7 columns):\n",
      " #   Column                   Non-Null Count  Dtype \n",
      "---  ------                   --------------  ----- \n",
      " 0   review_id                99224 non-null  object\n",
      " 1   order_id                 99224 non-null  object\n",
      " 2   review_score             99224 non-null  object\n",
      " 3   review_comment_title     11566 non-null  object\n",
      " 4   review_comment_message   40968 non-null  object\n",
      " 5   review_creation_date     99224 non-null  object\n",
      " 6   review_answer_timestamp  99224 non-null  object\n",
      "dtypes: object(7)\n",
      "memory usage: 5.3+ MB\n"
     ]
    }
   ],
   "source": [
    "order_reviews.info()    # General observation"
   ]
  },
  {
   "cell_type": "code",
   "execution_count": 99,
   "id": "2badd819",
   "metadata": {},
   "outputs": [
    {
     "name": "stdout",
     "output_type": "stream",
     "text": [
      "review_id : 98410\n",
      "order_id : 98673\n",
      "review_score : 5\n",
      "review_comment_title : 4511\n",
      "review_comment_message : 36156\n",
      "review_creation_date : 636\n",
      "review_answer_timestamp : 98248\n",
      "Shape:  (99224, 7)\n"
     ]
    }
   ],
   "source": [
    "# Primary analysis\n",
    "for column in order_reviews:\n",
    "    print(f\"{column} : {len(order_reviews[column].unique())}\")\n",
    "print(\"Shape: \", order_reviews.shape)"
   ]
  },
  {
   "cell_type": "code",
   "execution_count": 100,
   "id": "2a0506dd",
   "metadata": {},
   "outputs": [],
   "source": [
    "# Duplicate values exist in review_id and order_id columns"
   ]
  },
  {
   "cell_type": "code",
   "execution_count": 101,
   "id": "e2a6c346",
   "metadata": {},
   "outputs": [
    {
     "data": {
      "text/html": [
       "<div>\n",
       "<style scoped>\n",
       "    .dataframe tbody tr th:only-of-type {\n",
       "        vertical-align: middle;\n",
       "    }\n",
       "\n",
       "    .dataframe tbody tr th {\n",
       "        vertical-align: top;\n",
       "    }\n",
       "\n",
       "    .dataframe thead th {\n",
       "        text-align: right;\n",
       "    }\n",
       "</style>\n",
       "<table border=\"1\" class=\"dataframe\">\n",
       "  <thead>\n",
       "    <tr style=\"text-align: right;\">\n",
       "      <th></th>\n",
       "      <th>order_id</th>\n",
       "      <th>review_id</th>\n",
       "      <th>count</th>\n",
       "    </tr>\n",
       "  </thead>\n",
       "  <tbody>\n",
       "  </tbody>\n",
       "</table>\n",
       "</div>"
      ],
      "text/plain": [
       "Empty DataFrame\n",
       "Columns: [order_id, review_id, count]\n",
       "Index: []"
      ]
     },
     "execution_count": 101,
     "metadata": {},
     "output_type": "execute_result"
    }
   ],
   "source": [
    "# Creating group keys of order_id and review_id\n",
    "dup_counts = order_reviews.groupby(\n",
    "    [\"order_id\", \"review_id\"]\n",
    ").size().reset_index(name=\"count\")\n",
    "\n",
    "dup_counts[dup_counts[\"count\"] > 1]"
   ]
  },
  {
   "cell_type": "code",
   "execution_count": 102,
   "id": "1da951a1",
   "metadata": {},
   "outputs": [],
   "source": [
    "# So there are no order_id, review_id pairs with multiple count"
   ]
  },
  {
   "cell_type": "code",
   "execution_count": 103,
   "id": "daec8774",
   "metadata": {},
   "outputs": [
    {
     "data": {
      "text/html": [
       "<div>\n",
       "<style scoped>\n",
       "    .dataframe tbody tr th:only-of-type {\n",
       "        vertical-align: middle;\n",
       "    }\n",
       "\n",
       "    .dataframe tbody tr th {\n",
       "        vertical-align: top;\n",
       "    }\n",
       "\n",
       "    .dataframe thead th {\n",
       "        text-align: right;\n",
       "    }\n",
       "</style>\n",
       "<table border=\"1\" class=\"dataframe\">\n",
       "  <thead>\n",
       "    <tr style=\"text-align: right;\">\n",
       "      <th></th>\n",
       "      <th>review_id</th>\n",
       "      <th>counts</th>\n",
       "    </tr>\n",
       "  </thead>\n",
       "  <tbody>\n",
       "    <tr>\n",
       "      <th>31</th>\n",
       "      <td>00130cbe1f9d422698c812ed8ded1919</td>\n",
       "      <td>2</td>\n",
       "    </tr>\n",
       "    <tr>\n",
       "      <th>425</th>\n",
       "      <td>0115633a9c298b6a98bcbe4eee75345f</td>\n",
       "      <td>2</td>\n",
       "    </tr>\n",
       "    <tr>\n",
       "      <th>568</th>\n",
       "      <td>0174caf0ee5964646040cd94e15ac95e</td>\n",
       "      <td>2</td>\n",
       "    </tr>\n",
       "    <tr>\n",
       "      <th>574</th>\n",
       "      <td>017808d29fd1f942d97e50184dfb4c13</td>\n",
       "      <td>2</td>\n",
       "    </tr>\n",
       "    <tr>\n",
       "      <th>884</th>\n",
       "      <td>0254bd905dc677a6078990aad3331a36</td>\n",
       "      <td>2</td>\n",
       "    </tr>\n",
       "    <tr>\n",
       "      <th>...</th>\n",
       "      <td>...</td>\n",
       "      <td>...</td>\n",
       "    </tr>\n",
       "    <tr>\n",
       "      <th>97594</th>\n",
       "      <td>fde2e6abaf5bb64f7407a44741c24dec</td>\n",
       "      <td>2</td>\n",
       "    </tr>\n",
       "    <tr>\n",
       "      <th>97601</th>\n",
       "      <td>fde5986d35c89aa1b6ce4149de82a0d3</td>\n",
       "      <td>2</td>\n",
       "    </tr>\n",
       "    <tr>\n",
       "      <th>97794</th>\n",
       "      <td>fe5c833752953fed3209646f1f63b53c</td>\n",
       "      <td>2</td>\n",
       "    </tr>\n",
       "    <tr>\n",
       "      <th>98105</th>\n",
       "      <td>ff2fc9e68f8aabfbe18d710b83aabd30</td>\n",
       "      <td>2</td>\n",
       "    </tr>\n",
       "    <tr>\n",
       "      <th>98309</th>\n",
       "      <td>ffb8cff872a625632ac983eb1f88843c</td>\n",
       "      <td>2</td>\n",
       "    </tr>\n",
       "  </tbody>\n",
       "</table>\n",
       "<p>789 rows × 2 columns</p>\n",
       "</div>"
      ],
      "text/plain": [
       "                              review_id  counts\n",
       "31     00130cbe1f9d422698c812ed8ded1919       2\n",
       "425    0115633a9c298b6a98bcbe4eee75345f       2\n",
       "568    0174caf0ee5964646040cd94e15ac95e       2\n",
       "574    017808d29fd1f942d97e50184dfb4c13       2\n",
       "884    0254bd905dc677a6078990aad3331a36       2\n",
       "...                                 ...     ...\n",
       "97594  fde2e6abaf5bb64f7407a44741c24dec       2\n",
       "97601  fde5986d35c89aa1b6ce4149de82a0d3       2\n",
       "97794  fe5c833752953fed3209646f1f63b53c       2\n",
       "98105  ff2fc9e68f8aabfbe18d710b83aabd30       2\n",
       "98309  ffb8cff872a625632ac983eb1f88843c       2\n",
       "\n",
       "[789 rows x 2 columns]"
      ]
     },
     "execution_count": 103,
     "metadata": {},
     "output_type": "execute_result"
    }
   ],
   "source": [
    "# Checking duplicate review_ids\n",
    "dup_counts = order_reviews.groupby (\"review_id\").size().reset_index(name=\"counts\")\n",
    "dup_counts[dup_counts[\"counts\"]>1]"
   ]
  },
  {
   "cell_type": "code",
   "execution_count": 104,
   "id": "49481669",
   "metadata": {},
   "outputs": [
    {
     "data": {
      "text/html": [
       "<div>\n",
       "<style scoped>\n",
       "    .dataframe tbody tr th:only-of-type {\n",
       "        vertical-align: middle;\n",
       "    }\n",
       "\n",
       "    .dataframe tbody tr th {\n",
       "        vertical-align: top;\n",
       "    }\n",
       "\n",
       "    .dataframe thead th {\n",
       "        text-align: right;\n",
       "    }\n",
       "</style>\n",
       "<table border=\"1\" class=\"dataframe\">\n",
       "  <thead>\n",
       "    <tr style=\"text-align: right;\">\n",
       "      <th></th>\n",
       "      <th>review_id</th>\n",
       "      <th>order_id</th>\n",
       "      <th>review_score</th>\n",
       "      <th>review_comment_title</th>\n",
       "      <th>review_comment_message</th>\n",
       "      <th>review_creation_date</th>\n",
       "      <th>review_answer_timestamp</th>\n",
       "    </tr>\n",
       "  </thead>\n",
       "  <tbody>\n",
       "    <tr>\n",
       "      <th>29841</th>\n",
       "      <td>00130cbe1f9d422698c812ed8ded1919</td>\n",
       "      <td>04a28263e085d399c97ae49e0b477efa</td>\n",
       "      <td>1</td>\n",
       "      <td>None</td>\n",
       "      <td>O cartucho \"original HP\" 60XL não é reconhecid...</td>\n",
       "      <td>2018-03-07 00:00:00</td>\n",
       "      <td>2018-03-20 18:08:23</td>\n",
       "    </tr>\n",
       "    <tr>\n",
       "      <th>46678</th>\n",
       "      <td>00130cbe1f9d422698c812ed8ded1919</td>\n",
       "      <td>dfcdfc43867d1c1381bfaf62d6b9c195</td>\n",
       "      <td>1</td>\n",
       "      <td>None</td>\n",
       "      <td>O cartucho \"original HP\" 60XL não é reconhecid...</td>\n",
       "      <td>2018-03-07 00:00:00</td>\n",
       "      <td>2018-03-20 18:08:23</td>\n",
       "    </tr>\n",
       "  </tbody>\n",
       "</table>\n",
       "</div>"
      ],
      "text/plain": [
       "                              review_id                          order_id  \\\n",
       "29841  00130cbe1f9d422698c812ed8ded1919  04a28263e085d399c97ae49e0b477efa   \n",
       "46678  00130cbe1f9d422698c812ed8ded1919  dfcdfc43867d1c1381bfaf62d6b9c195   \n",
       "\n",
       "      review_score review_comment_title  \\\n",
       "29841            1                 None   \n",
       "46678            1                 None   \n",
       "\n",
       "                                  review_comment_message review_creation_date  \\\n",
       "29841  O cartucho \"original HP\" 60XL não é reconhecid...  2018-03-07 00:00:00   \n",
       "46678  O cartucho \"original HP\" 60XL não é reconhecid...  2018-03-07 00:00:00   \n",
       "\n",
       "      review_answer_timestamp  \n",
       "29841     2018-03-20 18:08:23  \n",
       "46678     2018-03-20 18:08:23  "
      ]
     },
     "execution_count": 104,
     "metadata": {},
     "output_type": "execute_result"
    }
   ],
   "source": [
    "order_reviews[order_reviews[\"review_id\"]==\"00130cbe1f9d422698c812ed8ded1919\"]"
   ]
  },
  {
   "cell_type": "code",
   "execution_count": 105,
   "id": "34946bce",
   "metadata": {},
   "outputs": [
    {
     "data": {
      "text/html": [
       "<div>\n",
       "<style scoped>\n",
       "    .dataframe tbody tr th:only-of-type {\n",
       "        vertical-align: middle;\n",
       "    }\n",
       "\n",
       "    .dataframe tbody tr th {\n",
       "        vertical-align: top;\n",
       "    }\n",
       "\n",
       "    .dataframe thead th {\n",
       "        text-align: right;\n",
       "    }\n",
       "</style>\n",
       "<table border=\"1\" class=\"dataframe\">\n",
       "  <thead>\n",
       "    <tr style=\"text-align: right;\">\n",
       "      <th></th>\n",
       "      <th>review_id</th>\n",
       "      <th>order_id</th>\n",
       "      <th>review_score</th>\n",
       "      <th>review_comment_title</th>\n",
       "      <th>review_comment_message</th>\n",
       "      <th>review_creation_date</th>\n",
       "      <th>review_answer_timestamp</th>\n",
       "    </tr>\n",
       "  </thead>\n",
       "  <tbody>\n",
       "    <tr>\n",
       "      <th>63193</th>\n",
       "      <td>0115633a9c298b6a98bcbe4eee75345f</td>\n",
       "      <td>0c9850b2c179c1ef60d2855e2751d1fa</td>\n",
       "      <td>5</td>\n",
       "      <td>None</td>\n",
       "      <td>None</td>\n",
       "      <td>2017-09-21 00:00:00</td>\n",
       "      <td>2017-09-26 03:27:47</td>\n",
       "    </tr>\n",
       "    <tr>\n",
       "      <th>90677</th>\n",
       "      <td>0115633a9c298b6a98bcbe4eee75345f</td>\n",
       "      <td>78a4201f58af3463bdab842eea4bc801</td>\n",
       "      <td>5</td>\n",
       "      <td>None</td>\n",
       "      <td>None</td>\n",
       "      <td>2017-09-21 00:00:00</td>\n",
       "      <td>2017-09-26 03:27:47</td>\n",
       "    </tr>\n",
       "  </tbody>\n",
       "</table>\n",
       "</div>"
      ],
      "text/plain": [
       "                              review_id                          order_id  \\\n",
       "63193  0115633a9c298b6a98bcbe4eee75345f  0c9850b2c179c1ef60d2855e2751d1fa   \n",
       "90677  0115633a9c298b6a98bcbe4eee75345f  78a4201f58af3463bdab842eea4bc801   \n",
       "\n",
       "      review_score review_comment_title review_comment_message  \\\n",
       "63193            5                 None                   None   \n",
       "90677            5                 None                   None   \n",
       "\n",
       "      review_creation_date review_answer_timestamp  \n",
       "63193  2017-09-21 00:00:00     2017-09-26 03:27:47  \n",
       "90677  2017-09-21 00:00:00     2017-09-26 03:27:47  "
      ]
     },
     "execution_count": 105,
     "metadata": {},
     "output_type": "execute_result"
    }
   ],
   "source": [
    "order_reviews[order_reviews[\"review_id\"]==\"0115633a9c298b6a98bcbe4eee75345f\"]"
   ]
  },
  {
   "cell_type": "code",
   "execution_count": 106,
   "id": "780cc053",
   "metadata": {},
   "outputs": [],
   "source": [
    "# The same review_id has been assigned to multiple order_id. This is a data integrity issue"
   ]
  },
  {
   "cell_type": "code",
   "execution_count": 107,
   "id": "018280a7",
   "metadata": {},
   "outputs": [
    {
     "data": {
      "text/html": [
       "<div>\n",
       "<style scoped>\n",
       "    .dataframe tbody tr th:only-of-type {\n",
       "        vertical-align: middle;\n",
       "    }\n",
       "\n",
       "    .dataframe tbody tr th {\n",
       "        vertical-align: top;\n",
       "    }\n",
       "\n",
       "    .dataframe thead th {\n",
       "        text-align: right;\n",
       "    }\n",
       "</style>\n",
       "<table border=\"1\" class=\"dataframe\">\n",
       "  <thead>\n",
       "    <tr style=\"text-align: right;\">\n",
       "      <th></th>\n",
       "      <th>order_id</th>\n",
       "      <th>count</th>\n",
       "    </tr>\n",
       "  </thead>\n",
       "  <tbody>\n",
       "    <tr>\n",
       "      <th>84</th>\n",
       "      <td>0035246a40f520710769010f752e7507</td>\n",
       "      <td>2</td>\n",
       "    </tr>\n",
       "    <tr>\n",
       "      <th>461</th>\n",
       "      <td>013056cfe49763c6f66bda03396c5ee3</td>\n",
       "      <td>2</td>\n",
       "    </tr>\n",
       "    <tr>\n",
       "      <th>556</th>\n",
       "      <td>0176a6846bcb3b0d3aa3116a9a768597</td>\n",
       "      <td>2</td>\n",
       "    </tr>\n",
       "    <tr>\n",
       "      <th>835</th>\n",
       "      <td>02355020fd0a40a0d56df9f6ff060413</td>\n",
       "      <td>2</td>\n",
       "    </tr>\n",
       "    <tr>\n",
       "      <th>985</th>\n",
       "      <td>029863af4b968de1e5d6a82782e662f5</td>\n",
       "      <td>2</td>\n",
       "    </tr>\n",
       "    <tr>\n",
       "      <th>...</th>\n",
       "      <td>...</td>\n",
       "      <td>...</td>\n",
       "    </tr>\n",
       "    <tr>\n",
       "      <th>97779</th>\n",
       "      <td>fd95ae805c63c534f1a64589e102225e</td>\n",
       "      <td>2</td>\n",
       "    </tr>\n",
       "    <tr>\n",
       "      <th>97943</th>\n",
       "      <td>fe041ba1c9f54016432fa6ee91709dbc</td>\n",
       "      <td>2</td>\n",
       "    </tr>\n",
       "    <tr>\n",
       "      <th>98480</th>\n",
       "      <td>ff763b73e473d03c321bcd5a053316e8</td>\n",
       "      <td>2</td>\n",
       "    </tr>\n",
       "    <tr>\n",
       "      <th>98497</th>\n",
       "      <td>ff850ba359507b996e8b2fbb26df8d03</td>\n",
       "      <td>2</td>\n",
       "    </tr>\n",
       "    <tr>\n",
       "      <th>98553</th>\n",
       "      <td>ffaabba06c9d293a3c614e0515ddbabc</td>\n",
       "      <td>2</td>\n",
       "    </tr>\n",
       "  </tbody>\n",
       "</table>\n",
       "<p>547 rows × 2 columns</p>\n",
       "</div>"
      ],
      "text/plain": [
       "                               order_id  count\n",
       "84     0035246a40f520710769010f752e7507      2\n",
       "461    013056cfe49763c6f66bda03396c5ee3      2\n",
       "556    0176a6846bcb3b0d3aa3116a9a768597      2\n",
       "835    02355020fd0a40a0d56df9f6ff060413      2\n",
       "985    029863af4b968de1e5d6a82782e662f5      2\n",
       "...                                 ...    ...\n",
       "97779  fd95ae805c63c534f1a64589e102225e      2\n",
       "97943  fe041ba1c9f54016432fa6ee91709dbc      2\n",
       "98480  ff763b73e473d03c321bcd5a053316e8      2\n",
       "98497  ff850ba359507b996e8b2fbb26df8d03      2\n",
       "98553  ffaabba06c9d293a3c614e0515ddbabc      2\n",
       "\n",
       "[547 rows x 2 columns]"
      ]
     },
     "execution_count": 107,
     "metadata": {},
     "output_type": "execute_result"
    }
   ],
   "source": [
    "# Checking duplicate order_ids\n",
    "dup_counts_orders = order_reviews.groupby(\"order_id\").size().reset_index(name=\"count\")\n",
    "dup_counts_orders[dup_counts_orders[\"count\"]>1]"
   ]
  },
  {
   "cell_type": "code",
   "execution_count": 108,
   "id": "fc02f0a8",
   "metadata": {},
   "outputs": [
    {
     "data": {
      "text/html": [
       "<div>\n",
       "<style scoped>\n",
       "    .dataframe tbody tr th:only-of-type {\n",
       "        vertical-align: middle;\n",
       "    }\n",
       "\n",
       "    .dataframe tbody tr th {\n",
       "        vertical-align: top;\n",
       "    }\n",
       "\n",
       "    .dataframe thead th {\n",
       "        text-align: right;\n",
       "    }\n",
       "</style>\n",
       "<table border=\"1\" class=\"dataframe\">\n",
       "  <thead>\n",
       "    <tr style=\"text-align: right;\">\n",
       "      <th></th>\n",
       "      <th>review_id</th>\n",
       "      <th>order_id</th>\n",
       "      <th>review_score</th>\n",
       "      <th>review_comment_title</th>\n",
       "      <th>review_comment_message</th>\n",
       "      <th>review_creation_date</th>\n",
       "      <th>review_answer_timestamp</th>\n",
       "    </tr>\n",
       "  </thead>\n",
       "  <tbody>\n",
       "    <tr>\n",
       "      <th>22423</th>\n",
       "      <td>2a74b0559eb58fc1ff842ecc999594cb</td>\n",
       "      <td>0035246a40f520710769010f752e7507</td>\n",
       "      <td>5</td>\n",
       "      <td>None</td>\n",
       "      <td>Estou acostumada a comprar produtos pelo barat...</td>\n",
       "      <td>2017-08-25 00:00:00</td>\n",
       "      <td>2017-08-29 21:45:57</td>\n",
       "    </tr>\n",
       "    <tr>\n",
       "      <th>25612</th>\n",
       "      <td>89a02c45c340aeeb1354a24e7d4b2c1e</td>\n",
       "      <td>0035246a40f520710769010f752e7507</td>\n",
       "      <td>5</td>\n",
       "      <td>None</td>\n",
       "      <td>None</td>\n",
       "      <td>2017-08-29 00:00:00</td>\n",
       "      <td>2017-08-30 01:59:12</td>\n",
       "    </tr>\n",
       "  </tbody>\n",
       "</table>\n",
       "</div>"
      ],
      "text/plain": [
       "                              review_id                          order_id  \\\n",
       "22423  2a74b0559eb58fc1ff842ecc999594cb  0035246a40f520710769010f752e7507   \n",
       "25612  89a02c45c340aeeb1354a24e7d4b2c1e  0035246a40f520710769010f752e7507   \n",
       "\n",
       "      review_score review_comment_title  \\\n",
       "22423            5                 None   \n",
       "25612            5                 None   \n",
       "\n",
       "                                  review_comment_message review_creation_date  \\\n",
       "22423  Estou acostumada a comprar produtos pelo barat...  2017-08-25 00:00:00   \n",
       "25612                                               None  2017-08-29 00:00:00   \n",
       "\n",
       "      review_answer_timestamp  \n",
       "22423     2017-08-29 21:45:57  \n",
       "25612     2017-08-30 01:59:12  "
      ]
     },
     "execution_count": 108,
     "metadata": {},
     "output_type": "execute_result"
    }
   ],
   "source": [
    "order_reviews[order_reviews[\"order_id\"] == \"0035246a40f520710769010f752e7507\"]"
   ]
  },
  {
   "cell_type": "code",
   "execution_count": 109,
   "id": "c5639227",
   "metadata": {},
   "outputs": [],
   "source": [
    "# Dedupe order_id, keep the latest review\n",
    "\n",
    "order_reviews = order_reviews.sort_values(\"review_answer_timestamp\")\n",
    "order_reviews = order_reviews.drop_duplicates(subset=\"order_id\", keep=\"last\")"
   ]
  },
  {
   "cell_type": "code",
   "execution_count": 110,
   "id": "3a67cf66",
   "metadata": {},
   "outputs": [
    {
     "data": {
      "text/plain": [
       "(98673, 7)"
      ]
     },
     "execution_count": 110,
     "metadata": {},
     "output_type": "execute_result"
    }
   ],
   "source": [
    "# sanity check\n",
    "order_reviews.shape"
   ]
  },
  {
   "cell_type": "code",
   "execution_count": 111,
   "id": "a2f736c0",
   "metadata": {},
   "outputs": [],
   "source": [
    "# Create a boolean flag column\n",
    "order_reviews[\"has_reviews\"] = order_reviews[\"review_comment_message\"].notna()"
   ]
  },
  {
   "cell_type": "code",
   "execution_count": 112,
   "id": "aca4319c",
   "metadata": {},
   "outputs": [],
   "source": [
    "# Normalizing review_id column\n",
    "order_reviews[\"review_id\"] = (\n",
    "    order_reviews[\"review_id\"]\n",
    "    .str.lower()\n",
    "    .str.strip()\n",
    "    .str.replace(r\"s\\+\", \"\", regex=True)\n",
    ")\n",
    "\n",
    "# Normalizing order_id column\n",
    "order_reviews[\"order_id\"] = (\n",
    "    order_reviews[\"order_id\"]\n",
    "    .str.lower()\n",
    "    .str.strip()\n",
    "    .str.replace(r\"s\\+\", \"\", regex=True)\n",
    ")\n",
    "\n",
    "# Normalizing review_comment_title column\n",
    "order_reviews[\"review_comment_title\"] = (\n",
    "    order_reviews[\"review_comment_title\"]\n",
    "    .str.lower()\n",
    "    .str.strip()\n",
    "    .str.replace(r\"s\\+\", \" \", regex=True)\n",
    ")\n",
    "\n",
    "# Normalizing review_comment_message column\n",
    "order_reviews[\"review_comment_message\"] = (\n",
    "    order_reviews[\"review_comment_message\"]\n",
    "    .str.lower()\n",
    "    .str.strip()\n",
    "    .str.replace(r\"s\\+\", \" \", regex=True)\n",
    ")"
   ]
  },
  {
   "cell_type": "code",
   "execution_count": 113,
   "id": "9ec5bd77",
   "metadata": {},
   "outputs": [
    {
     "data": {
      "text/html": [
       "<div>\n",
       "<style scoped>\n",
       "    .dataframe tbody tr th:only-of-type {\n",
       "        vertical-align: middle;\n",
       "    }\n",
       "\n",
       "    .dataframe tbody tr th {\n",
       "        vertical-align: top;\n",
       "    }\n",
       "\n",
       "    .dataframe thead th {\n",
       "        text-align: right;\n",
       "    }\n",
       "</style>\n",
       "<table border=\"1\" class=\"dataframe\">\n",
       "  <thead>\n",
       "    <tr style=\"text-align: right;\">\n",
       "      <th></th>\n",
       "      <th>review_id</th>\n",
       "      <th>order_id</th>\n",
       "      <th>review_score</th>\n",
       "      <th>review_comment_title</th>\n",
       "      <th>review_comment_message</th>\n",
       "      <th>review_creation_date</th>\n",
       "      <th>review_answer_timestamp</th>\n",
       "      <th>has_reviews</th>\n",
       "    </tr>\n",
       "  </thead>\n",
       "  <tbody>\n",
       "    <tr>\n",
       "      <th>37547</th>\n",
       "      <td>6916ca4502d6d3bfd39818759d55d536</td>\n",
       "      <td>bfbd0f9bdef84302105ad712db648a6c</td>\n",
       "      <td>1</td>\n",
       "      <td>None</td>\n",
       "      <td>nao recebi o produto e nem resposta da empresa</td>\n",
       "      <td>2016-10-06 00:00:00</td>\n",
       "      <td>2016-10-07 18:32:28</td>\n",
       "      <td>True</td>\n",
       "    </tr>\n",
       "    <tr>\n",
       "      <th>5503</th>\n",
       "      <td>49f695dffa457eaba90d388a5c37e942</td>\n",
       "      <td>e5215415bb6f76fe3b7cb68103a0d1c0</td>\n",
       "      <td>1</td>\n",
       "      <td>None</td>\n",
       "      <td>produto não chegou,e já passou o prazo de entrega</td>\n",
       "      <td>2016-10-09 00:00:00</td>\n",
       "      <td>2016-10-11 14:31:29</td>\n",
       "      <td>True</td>\n",
       "    </tr>\n",
       "    <tr>\n",
       "      <th>60439</th>\n",
       "      <td>743d98b1a4782f0646898fc915ef002a</td>\n",
       "      <td>e2144124f98f3bf46939bc5183104041</td>\n",
       "      <td>4</td>\n",
       "      <td>None</td>\n",
       "      <td>None</td>\n",
       "      <td>2016-10-15 00:00:00</td>\n",
       "      <td>2016-10-16 03:20:17</td>\n",
       "      <td>False</td>\n",
       "    </tr>\n",
       "    <tr>\n",
       "      <th>28076</th>\n",
       "      <td>53752edb26544dd41c1209f582c9c589</td>\n",
       "      <td>b8b9d7046c083150cb5360b83a8ebb51</td>\n",
       "      <td>5</td>\n",
       "      <td>None</td>\n",
       "      <td>o pedido foi entregue antes do prazo pr0metido</td>\n",
       "      <td>2016-10-16 01:00:00</td>\n",
       "      <td>2016-10-16 15:45:11</td>\n",
       "      <td>True</td>\n",
       "    </tr>\n",
       "    <tr>\n",
       "      <th>41042</th>\n",
       "      <td>b2d5d8db2a841d27a72e4c06c6212368</td>\n",
       "      <td>9aa3197e4887919fde0307fc23601d7a</td>\n",
       "      <td>4</td>\n",
       "      <td>None</td>\n",
       "      <td>só chegou uma parte do pedido ate agora..</td>\n",
       "      <td>2016-10-15 00:00:00</td>\n",
       "      <td>2016-10-17 21:02:49</td>\n",
       "      <td>True</td>\n",
       "    </tr>\n",
       "  </tbody>\n",
       "</table>\n",
       "</div>"
      ],
      "text/plain": [
       "                              review_id                          order_id  \\\n",
       "37547  6916ca4502d6d3bfd39818759d55d536  bfbd0f9bdef84302105ad712db648a6c   \n",
       "5503   49f695dffa457eaba90d388a5c37e942  e5215415bb6f76fe3b7cb68103a0d1c0   \n",
       "60439  743d98b1a4782f0646898fc915ef002a  e2144124f98f3bf46939bc5183104041   \n",
       "28076  53752edb26544dd41c1209f582c9c589  b8b9d7046c083150cb5360b83a8ebb51   \n",
       "41042  b2d5d8db2a841d27a72e4c06c6212368  9aa3197e4887919fde0307fc23601d7a   \n",
       "\n",
       "      review_score review_comment_title  \\\n",
       "37547            1                 None   \n",
       "5503             1                 None   \n",
       "60439            4                 None   \n",
       "28076            5                 None   \n",
       "41042            4                 None   \n",
       "\n",
       "                                  review_comment_message review_creation_date  \\\n",
       "37547     nao recebi o produto e nem resposta da empresa  2016-10-06 00:00:00   \n",
       "5503   produto não chegou,e já passou o prazo de entrega  2016-10-09 00:00:00   \n",
       "60439                                               None  2016-10-15 00:00:00   \n",
       "28076     o pedido foi entregue antes do prazo pr0metido  2016-10-16 01:00:00   \n",
       "41042          só chegou uma parte do pedido ate agora..  2016-10-15 00:00:00   \n",
       "\n",
       "      review_answer_timestamp  has_reviews  \n",
       "37547     2016-10-07 18:32:28         True  \n",
       "5503      2016-10-11 14:31:29         True  \n",
       "60439     2016-10-16 03:20:17        False  \n",
       "28076     2016-10-16 15:45:11         True  \n",
       "41042     2016-10-17 21:02:49         True  "
      ]
     },
     "execution_count": 113,
     "metadata": {},
     "output_type": "execute_result"
    }
   ],
   "source": [
    "order_reviews.head()"
   ]
  },
  {
   "cell_type": "code",
   "execution_count": 114,
   "id": "21fd7b34",
   "metadata": {},
   "outputs": [
    {
     "name": "stdout",
     "output_type": "stream",
     "text": [
      "<class 'pandas.core.frame.DataFrame'>\n",
      "Index: 98673 entries, 37547 to 80582\n",
      "Data columns (total 8 columns):\n",
      " #   Column                   Non-Null Count  Dtype \n",
      "---  ------                   --------------  ----- \n",
      " 0   review_id                98673 non-null  object\n",
      " 1   order_id                 98673 non-null  object\n",
      " 2   review_score             98673 non-null  object\n",
      " 3   review_comment_title     11548 non-null  object\n",
      " 4   review_comment_message   40766 non-null  object\n",
      " 5   review_creation_date     98673 non-null  object\n",
      " 6   review_answer_timestamp  98673 non-null  object\n",
      " 7   has_reviews              98673 non-null  bool  \n",
      "dtypes: bool(1), object(7)\n",
      "memory usage: 6.1+ MB\n"
     ]
    }
   ],
   "source": [
    "order_reviews.info()"
   ]
  },
  {
   "cell_type": "code",
   "execution_count": 115,
   "id": "5eac0417",
   "metadata": {},
   "outputs": [],
   "source": [
    "# Changing the data types\n",
    "order_reviews[\"review_score\"] = order_reviews[\"review_score\"].astype(int)\n",
    "order_reviews[\"review_creation_date\"] = pd.to_datetime(order_reviews[\"review_creation_date\"], errors= \"coerce\")\n",
    "order_reviews[\"review_answer_timestamp\"] = pd.to_datetime(order_reviews[\"review_answer_timestamp\"], errors= \"coerce\")"
   ]
  },
  {
   "cell_type": "code",
   "execution_count": 116,
   "id": "4b8e0fe4",
   "metadata": {},
   "outputs": [
    {
     "name": "stdout",
     "output_type": "stream",
     "text": [
      "<class 'pandas.core.frame.DataFrame'>\n",
      "Index: 98673 entries, 37547 to 80582\n",
      "Data columns (total 8 columns):\n",
      " #   Column                   Non-Null Count  Dtype         \n",
      "---  ------                   --------------  -----         \n",
      " 0   review_id                98673 non-null  object        \n",
      " 1   order_id                 98673 non-null  object        \n",
      " 2   review_score             98673 non-null  int32         \n",
      " 3   review_comment_title     11548 non-null  object        \n",
      " 4   review_comment_message   40766 non-null  object        \n",
      " 5   review_creation_date     98673 non-null  datetime64[ns]\n",
      " 6   review_answer_timestamp  98673 non-null  datetime64[ns]\n",
      " 7   has_reviews              98673 non-null  bool          \n",
      "dtypes: bool(1), datetime64[ns](2), int32(1), object(4)\n",
      "memory usage: 5.7+ MB\n"
     ]
    }
   ],
   "source": [
    "order_reviews.info()    # General observation"
   ]
  },
  {
   "cell_type": "markdown",
   "id": "bc4d8738",
   "metadata": {},
   "source": [
    "### Analyzing order_items dataset"
   ]
  },
  {
   "cell_type": "code",
   "execution_count": 117,
   "id": "1747c582",
   "metadata": {},
   "outputs": [
    {
     "data": {
      "text/html": [
       "<div>\n",
       "<style scoped>\n",
       "    .dataframe tbody tr th:only-of-type {\n",
       "        vertical-align: middle;\n",
       "    }\n",
       "\n",
       "    .dataframe tbody tr th {\n",
       "        vertical-align: top;\n",
       "    }\n",
       "\n",
       "    .dataframe thead th {\n",
       "        text-align: right;\n",
       "    }\n",
       "</style>\n",
       "<table border=\"1\" class=\"dataframe\">\n",
       "  <thead>\n",
       "    <tr style=\"text-align: right;\">\n",
       "      <th></th>\n",
       "      <th>order_id</th>\n",
       "      <th>order_item_id</th>\n",
       "      <th>product_id</th>\n",
       "      <th>seller_id</th>\n",
       "      <th>shipping_limit_date</th>\n",
       "      <th>price</th>\n",
       "      <th>freight_value</th>\n",
       "    </tr>\n",
       "  </thead>\n",
       "  <tbody>\n",
       "    <tr>\n",
       "      <th>0</th>\n",
       "      <td>00010242fe8c5a6d1ba2dd792cb16214</td>\n",
       "      <td>1</td>\n",
       "      <td>4244733e06e7ecb4970a6e2683c13e61</td>\n",
       "      <td>48436dade18ac8b2bce089ec2a041202</td>\n",
       "      <td>2017-09-19 09:45:35</td>\n",
       "      <td>58.90</td>\n",
       "      <td>13.29</td>\n",
       "    </tr>\n",
       "    <tr>\n",
       "      <th>1</th>\n",
       "      <td>00018f77f2f0320c557190d7a144bdd3</td>\n",
       "      <td>1</td>\n",
       "      <td>e5f2d52b802189ee658865ca93d83a8f</td>\n",
       "      <td>dd7ddc04e1b6c2c614352b383efe2d36</td>\n",
       "      <td>2017-05-03 11:05:13</td>\n",
       "      <td>239.90</td>\n",
       "      <td>19.93</td>\n",
       "    </tr>\n",
       "    <tr>\n",
       "      <th>2</th>\n",
       "      <td>000229ec398224ef6ca0657da4fc703e</td>\n",
       "      <td>1</td>\n",
       "      <td>c777355d18b72b67abbeef9df44fd0fd</td>\n",
       "      <td>5b51032eddd242adc84c38acab88f23d</td>\n",
       "      <td>2018-01-18 14:48:30</td>\n",
       "      <td>199.00</td>\n",
       "      <td>17.87</td>\n",
       "    </tr>\n",
       "    <tr>\n",
       "      <th>3</th>\n",
       "      <td>00024acbcdf0a6daa1e931b038114c75</td>\n",
       "      <td>1</td>\n",
       "      <td>7634da152a4610f1595efa32f14722fc</td>\n",
       "      <td>9d7a1d34a5052409006425275ba1c2b4</td>\n",
       "      <td>2018-08-15 10:10:18</td>\n",
       "      <td>12.99</td>\n",
       "      <td>12.79</td>\n",
       "    </tr>\n",
       "    <tr>\n",
       "      <th>4</th>\n",
       "      <td>00042b26cf59d7ce69dfabb4e55b4fd9</td>\n",
       "      <td>1</td>\n",
       "      <td>ac6c3623068f30de03045865e4e10089</td>\n",
       "      <td>df560393f3a51e74553ab94004ba5c87</td>\n",
       "      <td>2017-02-13 13:57:51</td>\n",
       "      <td>199.90</td>\n",
       "      <td>18.14</td>\n",
       "    </tr>\n",
       "  </tbody>\n",
       "</table>\n",
       "</div>"
      ],
      "text/plain": [
       "                           order_id order_item_id  \\\n",
       "0  00010242fe8c5a6d1ba2dd792cb16214             1   \n",
       "1  00018f77f2f0320c557190d7a144bdd3             1   \n",
       "2  000229ec398224ef6ca0657da4fc703e             1   \n",
       "3  00024acbcdf0a6daa1e931b038114c75             1   \n",
       "4  00042b26cf59d7ce69dfabb4e55b4fd9             1   \n",
       "\n",
       "                         product_id                         seller_id  \\\n",
       "0  4244733e06e7ecb4970a6e2683c13e61  48436dade18ac8b2bce089ec2a041202   \n",
       "1  e5f2d52b802189ee658865ca93d83a8f  dd7ddc04e1b6c2c614352b383efe2d36   \n",
       "2  c777355d18b72b67abbeef9df44fd0fd  5b51032eddd242adc84c38acab88f23d   \n",
       "3  7634da152a4610f1595efa32f14722fc  9d7a1d34a5052409006425275ba1c2b4   \n",
       "4  ac6c3623068f30de03045865e4e10089  df560393f3a51e74553ab94004ba5c87   \n",
       "\n",
       "   shipping_limit_date   price freight_value  \n",
       "0  2017-09-19 09:45:35   58.90         13.29  \n",
       "1  2017-05-03 11:05:13  239.90         19.93  \n",
       "2  2018-01-18 14:48:30  199.00         17.87  \n",
       "3  2018-08-15 10:10:18   12.99         12.79  \n",
       "4  2017-02-13 13:57:51  199.90         18.14  "
      ]
     },
     "execution_count": 117,
     "metadata": {},
     "output_type": "execute_result"
    }
   ],
   "source": [
    "order_items.head() # General view"
   ]
  },
  {
   "cell_type": "code",
   "execution_count": 118,
   "id": "520ba86d",
   "metadata": {},
   "outputs": [
    {
     "name": "stdout",
     "output_type": "stream",
     "text": [
      "order_id : 98666\n",
      "order_item_id : 21\n",
      "product_id : 32951\n",
      "seller_id : 3095\n",
      "shipping_limit_date : 93318\n",
      "price : 5968\n",
      "freight_value : 6999\n",
      "Shape:  (112650, 7)\n"
     ]
    }
   ],
   "source": [
    "# Primary analysis\n",
    "for column in order_items:\n",
    "    print(f\"{column} : {len(order_items[column].unique())}\")\n",
    "print(\"Shape: \", order_items.shape)"
   ]
  },
  {
   "cell_type": "code",
   "execution_count": 119,
   "id": "b174e3ab",
   "metadata": {},
   "outputs": [
    {
     "name": "stdout",
     "output_type": "stream",
     "text": [
      "<class 'pandas.core.frame.DataFrame'>\n",
      "RangeIndex: 112650 entries, 0 to 112649\n",
      "Data columns (total 7 columns):\n",
      " #   Column               Non-Null Count   Dtype \n",
      "---  ------               --------------   ----- \n",
      " 0   order_id             112650 non-null  object\n",
      " 1   order_item_id        112650 non-null  object\n",
      " 2   product_id           112650 non-null  object\n",
      " 3   seller_id            112650 non-null  object\n",
      " 4   shipping_limit_date  112650 non-null  object\n",
      " 5   price                112650 non-null  object\n",
      " 6   freight_value        112650 non-null  object\n",
      "dtypes: object(7)\n",
      "memory usage: 6.0+ MB\n"
     ]
    }
   ],
   "source": [
    "# General observation\n",
    "order_items.info()"
   ]
  },
  {
   "cell_type": "code",
   "execution_count": 120,
   "id": "66c9b13b",
   "metadata": {},
   "outputs": [],
   "source": [
    "# Change the data types\n",
    "order_items[\"order_item_id\"] = order_items[\"order_item_id\"].astype(int)\n",
    "order_items[\"shipping_limit_date\"] = pd.to_datetime(order_items[\"shipping_limit_date\"], errors=\"coerce\")\n",
    "order_items[\"price\"] = pd.to_numeric(order_items[\"price\"], errors=\"coerce\")\n",
    "order_items[\"freight_value\"] = pd.to_numeric(order_items[\"freight_value\"], errors=\"coerce\")"
   ]
  },
  {
   "cell_type": "code",
   "execution_count": 121,
   "id": "80c21803",
   "metadata": {},
   "outputs": [
    {
     "data": {
      "text/plain": [
       "order_id               0\n",
       "order_item_id          0\n",
       "product_id             0\n",
       "seller_id              0\n",
       "shipping_limit_date    0\n",
       "price                  0\n",
       "freight_value          0\n",
       "dtype: int64"
      ]
     },
     "execution_count": 121,
     "metadata": {},
     "output_type": "execute_result"
    }
   ],
   "source": [
    "# Check null values\n",
    "order_items.isnull().sum()"
   ]
  },
  {
   "cell_type": "code",
   "execution_count": 122,
   "id": "a99ef5d9",
   "metadata": {},
   "outputs": [],
   "source": [
    "# Normalizing the order_id column\n",
    "order_items[\"order_id\"] = (\n",
    "    order_items[\"order_id\"]\n",
    "    .str.lower()\n",
    "    .str.strip()\n",
    "    .str.replace(r\"s\\+\", \"\", regex=True)\n",
    ")\n",
    "\n",
    "#Normalizing the product_id column\n",
    "order_items[\"product_id\"] = (\n",
    "    order_items[\"product_id\"]\n",
    "    .str.lower()\n",
    "    .str.strip()\n",
    "    .str.replace(r\"\\s+\", \"\", regex=True)\n",
    ")\n",
    "\n",
    "# Normalizing the seller_id column\n",
    "order_items[\"seller_id\"] = (\n",
    "    order_items[\"seller_id\"]\n",
    "    .str.lower()\n",
    "    .str.strip()\n",
    "    .str.replace(r\"\\s+\", \"\", regex=True)\n",
    ")"
   ]
  },
  {
   "cell_type": "markdown",
   "id": "5595287e",
   "metadata": {},
   "source": [
    "### Analyzing order_payments table"
   ]
  },
  {
   "cell_type": "code",
   "execution_count": 123,
   "id": "2583cad8",
   "metadata": {},
   "outputs": [
    {
     "data": {
      "text/html": [
       "<div>\n",
       "<style scoped>\n",
       "    .dataframe tbody tr th:only-of-type {\n",
       "        vertical-align: middle;\n",
       "    }\n",
       "\n",
       "    .dataframe tbody tr th {\n",
       "        vertical-align: top;\n",
       "    }\n",
       "\n",
       "    .dataframe thead th {\n",
       "        text-align: right;\n",
       "    }\n",
       "</style>\n",
       "<table border=\"1\" class=\"dataframe\">\n",
       "  <thead>\n",
       "    <tr style=\"text-align: right;\">\n",
       "      <th></th>\n",
       "      <th>order_id</th>\n",
       "      <th>payment_sequential</th>\n",
       "      <th>payment_type</th>\n",
       "      <th>payment_installments</th>\n",
       "      <th>payment_value</th>\n",
       "    </tr>\n",
       "  </thead>\n",
       "  <tbody>\n",
       "    <tr>\n",
       "      <th>0</th>\n",
       "      <td>b81ef226f3fe1789b1e8b2acac839d17</td>\n",
       "      <td>1</td>\n",
       "      <td>credit_card</td>\n",
       "      <td>8</td>\n",
       "      <td>99.33</td>\n",
       "    </tr>\n",
       "    <tr>\n",
       "      <th>1</th>\n",
       "      <td>a9810da82917af2d9aefd1278f1dcfa0</td>\n",
       "      <td>1</td>\n",
       "      <td>credit_card</td>\n",
       "      <td>1</td>\n",
       "      <td>24.39</td>\n",
       "    </tr>\n",
       "    <tr>\n",
       "      <th>2</th>\n",
       "      <td>25e8ea4e93396b6fa0d3dd708e76c1bd</td>\n",
       "      <td>1</td>\n",
       "      <td>credit_card</td>\n",
       "      <td>1</td>\n",
       "      <td>65.71</td>\n",
       "    </tr>\n",
       "    <tr>\n",
       "      <th>3</th>\n",
       "      <td>ba78997921bbcdc1373bb41e913ab953</td>\n",
       "      <td>1</td>\n",
       "      <td>credit_card</td>\n",
       "      <td>8</td>\n",
       "      <td>107.78</td>\n",
       "    </tr>\n",
       "    <tr>\n",
       "      <th>4</th>\n",
       "      <td>42fdf880ba16b47b59251dd489d4441a</td>\n",
       "      <td>1</td>\n",
       "      <td>credit_card</td>\n",
       "      <td>2</td>\n",
       "      <td>128.45</td>\n",
       "    </tr>\n",
       "  </tbody>\n",
       "</table>\n",
       "</div>"
      ],
      "text/plain": [
       "                           order_id payment_sequential payment_type  \\\n",
       "0  b81ef226f3fe1789b1e8b2acac839d17                  1  credit_card   \n",
       "1  a9810da82917af2d9aefd1278f1dcfa0                  1  credit_card   \n",
       "2  25e8ea4e93396b6fa0d3dd708e76c1bd                  1  credit_card   \n",
       "3  ba78997921bbcdc1373bb41e913ab953                  1  credit_card   \n",
       "4  42fdf880ba16b47b59251dd489d4441a                  1  credit_card   \n",
       "\n",
       "  payment_installments payment_value  \n",
       "0                    8         99.33  \n",
       "1                    1         24.39  \n",
       "2                    1         65.71  \n",
       "3                    8        107.78  \n",
       "4                    2        128.45  "
      ]
     },
     "execution_count": 123,
     "metadata": {},
     "output_type": "execute_result"
    }
   ],
   "source": [
    "order_payments.head() # General view"
   ]
  },
  {
   "cell_type": "code",
   "execution_count": 124,
   "id": "2375dbe5",
   "metadata": {},
   "outputs": [
    {
     "name": "stdout",
     "output_type": "stream",
     "text": [
      "order_id : 99440\n",
      "payment_sequential : 29\n",
      "payment_type : 5\n",
      "payment_installments : 24\n",
      "payment_value : 29077\n",
      "Shape:  (103886, 5)\n"
     ]
    }
   ],
   "source": [
    "# Primary analysis\n",
    "for column in order_payments:\n",
    "    print(f\"{column} : {len(order_payments[column].unique())}\")\n",
    "print(\"Shape: \", order_payments.shape)"
   ]
  },
  {
   "cell_type": "code",
   "execution_count": 125,
   "id": "c641d1a7",
   "metadata": {},
   "outputs": [],
   "source": [
    "# Change the data types\n",
    "order_payments[\"payment_sequential\"] = order_payments[\"payment_sequential\"].astype(int)\n",
    "order_payments[\"payment_installments\"] = order_payments[\"payment_installments\"].astype(int)\n",
    "order_payments[\"payment_value\"] = order_payments[\"payment_value\"].astype(float)"
   ]
  },
  {
   "cell_type": "code",
   "execution_count": 126,
   "id": "6a18f146",
   "metadata": {},
   "outputs": [
    {
     "name": "stdout",
     "output_type": "stream",
     "text": [
      "<class 'pandas.core.frame.DataFrame'>\n",
      "RangeIndex: 103886 entries, 0 to 103885\n",
      "Data columns (total 5 columns):\n",
      " #   Column                Non-Null Count   Dtype  \n",
      "---  ------                --------------   -----  \n",
      " 0   order_id              103886 non-null  object \n",
      " 1   payment_sequential    103886 non-null  int32  \n",
      " 2   payment_type          103886 non-null  object \n",
      " 3   payment_installments  103886 non-null  int32  \n",
      " 4   payment_value         103886 non-null  float64\n",
      "dtypes: float64(1), int32(2), object(2)\n",
      "memory usage: 3.2+ MB\n"
     ]
    }
   ],
   "source": [
    "# General observation\n",
    "order_payments.info()"
   ]
  },
  {
   "cell_type": "code",
   "execution_count": 127,
   "id": "e1e46afe",
   "metadata": {},
   "outputs": [
    {
     "data": {
      "text/html": [
       "<div>\n",
       "<style scoped>\n",
       "    .dataframe tbody tr th:only-of-type {\n",
       "        vertical-align: middle;\n",
       "    }\n",
       "\n",
       "    .dataframe tbody tr th {\n",
       "        vertical-align: top;\n",
       "    }\n",
       "\n",
       "    .dataframe thead th {\n",
       "        text-align: right;\n",
       "    }\n",
       "</style>\n",
       "<table border=\"1\" class=\"dataframe\">\n",
       "  <thead>\n",
       "    <tr style=\"text-align: right;\">\n",
       "      <th></th>\n",
       "      <th>order_id</th>\n",
       "      <th>payment_sequential</th>\n",
       "      <th>payment_type</th>\n",
       "      <th>payment_installments</th>\n",
       "      <th>payment_value</th>\n",
       "    </tr>\n",
       "  </thead>\n",
       "  <tbody>\n",
       "    <tr>\n",
       "      <th>0</th>\n",
       "      <td>b81ef226f3fe1789b1e8b2acac839d17</td>\n",
       "      <td>1</td>\n",
       "      <td>credit_card</td>\n",
       "      <td>8</td>\n",
       "      <td>99.33</td>\n",
       "    </tr>\n",
       "    <tr>\n",
       "      <th>1</th>\n",
       "      <td>a9810da82917af2d9aefd1278f1dcfa0</td>\n",
       "      <td>1</td>\n",
       "      <td>credit_card</td>\n",
       "      <td>1</td>\n",
       "      <td>24.39</td>\n",
       "    </tr>\n",
       "    <tr>\n",
       "      <th>2</th>\n",
       "      <td>25e8ea4e93396b6fa0d3dd708e76c1bd</td>\n",
       "      <td>1</td>\n",
       "      <td>credit_card</td>\n",
       "      <td>1</td>\n",
       "      <td>65.71</td>\n",
       "    </tr>\n",
       "    <tr>\n",
       "      <th>3</th>\n",
       "      <td>ba78997921bbcdc1373bb41e913ab953</td>\n",
       "      <td>1</td>\n",
       "      <td>credit_card</td>\n",
       "      <td>8</td>\n",
       "      <td>107.78</td>\n",
       "    </tr>\n",
       "    <tr>\n",
       "      <th>4</th>\n",
       "      <td>42fdf880ba16b47b59251dd489d4441a</td>\n",
       "      <td>1</td>\n",
       "      <td>credit_card</td>\n",
       "      <td>2</td>\n",
       "      <td>128.45</td>\n",
       "    </tr>\n",
       "  </tbody>\n",
       "</table>\n",
       "</div>"
      ],
      "text/plain": [
       "                           order_id  payment_sequential payment_type  \\\n",
       "0  b81ef226f3fe1789b1e8b2acac839d17                   1  credit_card   \n",
       "1  a9810da82917af2d9aefd1278f1dcfa0                   1  credit_card   \n",
       "2  25e8ea4e93396b6fa0d3dd708e76c1bd                   1  credit_card   \n",
       "3  ba78997921bbcdc1373bb41e913ab953                   1  credit_card   \n",
       "4  42fdf880ba16b47b59251dd489d4441a                   1  credit_card   \n",
       "\n",
       "   payment_installments  payment_value  \n",
       "0                     8          99.33  \n",
       "1                     1          24.39  \n",
       "2                     1          65.71  \n",
       "3                     8         107.78  \n",
       "4                     2         128.45  "
      ]
     },
     "execution_count": 127,
     "metadata": {},
     "output_type": "execute_result"
    }
   ],
   "source": [
    "order_payments.head()"
   ]
  },
  {
   "cell_type": "code",
   "execution_count": 128,
   "id": "7ab6feba",
   "metadata": {},
   "outputs": [],
   "source": [
    "# Normalizing order_id column\n",
    "order_payments[\"order_id\"] = (\n",
    "    order_payments[\"order_id\"]\n",
    "    .str.lower()\n",
    "    .str.strip()\n",
    "    .str.replace(r\"s\\+\", \"\", regex=True)\n",
    ")\n",
    "\n",
    "# Normalizing payment_type column\n",
    "order_payments[\"payment_type\"] = (\n",
    "    order_payments[\"payment_type\"]\n",
    "    .str.lower()\n",
    "    .str.strip()\n",
    "    .str.replace(r\"s\\+\", \"\", regex=True)\n",
    ")"
   ]
  },
  {
   "cell_type": "code",
   "execution_count": 129,
   "id": "151e88f1",
   "metadata": {},
   "outputs": [],
   "source": [
    "# url encode and plug into sql alchemy\n",
    "quoted = urllib.parse.quote_plus(conn_str)\n",
    "engine = create_engine(f\"mssql+pyodbc:///?odbc_connect={quoted}\")"
   ]
  },
  {
   "cell_type": "code",
   "execution_count": 130,
   "id": "7aa49b71",
   "metadata": {},
   "outputs": [],
   "source": [
    "# Defining data types\n",
    "dtype_map = {\n",
    "    'customers': {\n",
    "        'customer_id': VARCHAR(length=50),\n",
    "        'customer_unique_id': VARCHAR(length=50),\n",
    "        'customer_zip_code_prefix': VARCHAR(length=10),\n",
    "        'customer_city': NVARCHAR(length=100),\n",
    "        'customer_state': VARCHAR(length=2),\n",
    "    },\n",
    "    'orders': {\n",
    "        'order_id': VARCHAR(length=50),\n",
    "        'customer_id': VARCHAR(length=50),\n",
    "        'order_status': VARCHAR(length=20),\n",
    "        'order_purchase_timestamp': DateTime(),\n",
    "        'order_approved_at': DateTime(),\n",
    "        'order_delivered_carrier_date': DateTime(),\n",
    "        'order_delivered_customer_date': DateTime(),\n",
    "        'order_estimated_delivery_date': DateTime(),\n",
    "    },\n",
    "    'order_items': {\n",
    "        'order_id': VARCHAR(length=50),\n",
    "        'order_item_id': Integer(),\n",
    "        'product_id': VARCHAR(length=50),\n",
    "        'seller_id': VARCHAR(length=50),\n",
    "        'shipping_limit_date': DateTime(),\n",
    "        'price': Float(),\n",
    "        'freight_value': Float(),\n",
    "    },\n",
    "    'order_payments': {\n",
    "        'order_id': VARCHAR(length=50),\n",
    "        'payment_sequential': Integer(),\n",
    "        'payment_type': VARCHAR(length=20),\n",
    "        'payment_installments': Integer(),\n",
    "        'payment_value': Float(),\n",
    "    },\n",
    "    'order_reviews': {\n",
    "        'order_id': VARCHAR(length=50),\n",
    "        'review_score': Integer(),\n",
    "        'review_comment_title': NVARCHAR(length='max'),\n",
    "        'review_comment_message': NVARCHAR(length='max'),\n",
    "        'review_creation_date': DateTime(),\n",
    "        'review_answer_timestamp': DateTime(),\n",
    "        'has_review': Boolean(),\n",
    "    },\n",
    "    'products': {\n",
    "        'product_id': VARCHAR(length=50),\n",
    "        'product_category_name': NVARCHAR(length=100),\n",
    "        'product_name_length': Integer(),\n",
    "        'product_description_length': Integer(),\n",
    "        'product_photos_qty': Integer(),\n",
    "        'product_weight_g': Float(),\n",
    "        'product_length_cm': Float(),\n",
    "        'product_height_cm': Float(),\n",
    "        'product_width_cm': Float(),\n",
    "        'product_category_name_english': NVARCHAR(length=100),\n",
    "    },\n",
    "    'sellers': {\n",
    "        'seller_id': VARCHAR(length=50),\n",
    "        'seller_zip_code_prefix': VARCHAR(length=10),\n",
    "        'seller_city': NVARCHAR(length=100),\n",
    "        'seller_state': VARCHAR(length=2),\n",
    "    },\n",
    "    'geolocation': {\n",
    "        'geolocation_zip_code_prefix': VARCHAR(length=10),\n",
    "        'geolocation_lat': Float(),\n",
    "        'geolocation_lng': Float(),\n",
    "        'geolocation_city': NVARCHAR(length=100),\n",
    "        'geolocation_state': VARCHAR(length=2),\n",
    "    },\n",
    "    'category_translation': {\n",
    "        'product_category_name': NVARCHAR(length=100),\n",
    "        'product_category_name_english': NVARCHAR(length=100),\n",
    "    },\n",
    "    'geo_grp' : {\n",
    "        'geolocation_zip_code_prefix' : VARCHAR(length=10),\n",
    "        'geolocation_city' : NVARCHAR(length=100),\n",
    "        'geolocation_state' : VARCHAR(2),\n",
    "    }\n",
    "}"
   ]
  },
  {
   "cell_type": "code",
   "execution_count": 131,
   "id": "887877a1",
   "metadata": {},
   "outputs": [],
   "source": [
    "# Dictionary of cleaned data frames\n",
    "clean_dfs = {\n",
    "    \"customers\" : customers,\n",
    "    \"sellers\" : sellers,\n",
    "    \"products\" : products,\n",
    "    \"orders\" : orders,\n",
    "    \"order_items\" : order_items,\n",
    "    \"order_reviews\" : order_reviews,\n",
    "    \"order_payments\" : order_payments,\n",
    "    \"geolocation\" : geolocation,\n",
    "    \"cat_translation\" : cat_translation,\n",
    "    \"geo_grp\" : geo_grp\n",
    "}"
   ]
  },
  {
   "cell_type": "code",
   "execution_count": 133,
   "id": "1bc79184",
   "metadata": {},
   "outputs": [
    {
     "name": "stdout",
     "output_type": "stream",
     "text": [
      "customers : 99,441 rows exported to analytics.customers\n",
      "sellers : 3,095 rows exported to analytics.sellers\n",
      "products : 32,951 rows exported to analytics.products\n",
      "orders : 99,441 rows exported to analytics.orders\n",
      "order_items : 112,650 rows exported to analytics.order_items\n",
      "order_reviews : 98,673 rows exported to analytics.order_reviews\n",
      "order_payments : 103,886 rows exported to analytics.order_payments\n",
      "geolocation : 1,000,163 rows exported to analytics.geolocation\n",
      "cat_translation : 71 rows exported to analytics.cat_translation\n",
      "geo_grp : 19,616 rows exported to analytics.geo_grp\n"
     ]
    }
   ],
   "source": [
    "for name, table in clean_dfs.items():\n",
    "    table.to_sql(\n",
    "        name = name,\n",
    "        schema = \"analytics\",\n",
    "        con = engine,\n",
    "        if_exists = \"replace\",\n",
    "        index = False,\n",
    "        dtype = dtype_map.get(name)\n",
    "    )\n",
    "\n",
    "    print(f\"{name} : {len(table):,} rows exported to analytics.{name}\")\n",
    "    "
   ]
  },
  {
   "cell_type": "code",
   "execution_count": null,
   "id": "e68b1536",
   "metadata": {},
   "outputs": [],
   "source": []
  }
 ],
 "metadata": {
  "kernelspec": {
   "display_name": "base",
   "language": "python",
   "name": "python3"
  },
  "language_info": {
   "codemirror_mode": {
    "name": "ipython",
    "version": 3
   },
   "file_extension": ".py",
   "mimetype": "text/x-python",
   "name": "python",
   "nbconvert_exporter": "python",
   "pygments_lexer": "ipython3",
   "version": "3.12.3"
  }
 },
 "nbformat": 4,
 "nbformat_minor": 5
}
